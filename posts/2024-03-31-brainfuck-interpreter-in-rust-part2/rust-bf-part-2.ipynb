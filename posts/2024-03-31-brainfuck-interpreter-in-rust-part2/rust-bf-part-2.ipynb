{
 "cells": [
  {
   "cell_type": "markdown",
   "id": "3f87b73d-99f3-4333-9e03-0278d843336b",
   "metadata": {
    "jp-MarkdownHeadingCollapsed": true
   },
   "source": [
    "## Introduction\n",
    "\n",
    "In the [last post](../../../../2024/02/04/brainfuck-interpreter-in-rust-part1), we created the first building blocks for our Brainfuck interpreter in Rust:\n",
    "*   A data structure for the tape, which supports four operations:\n",
    "    *   `left` and `right` move the data pointer,\n",
    "    *   `get` returns the `u8` value that is stored in the current cell,\n",
    "    *   `set` assigns a new `u8` value to the current cell.\n",
    "*   A data type for the instructions. It is based on Rust's enums, which are much more powerful than enums in C or C++ because they allow to build [algebraic data types](https://en.wikipedia.org/wiki/Algebraic_data_type):\n",
    "  \n",
    "    ```rust\n",
    "    #[derive(Debug)]\n",
    "    enum Instruction {\n",
    "        Inc,                    // +\n",
    "        Dec,                    // -\n",
    "        Left,                   // <\n",
    "        Right,                  // >\n",
    "        Read,                   // ,\n",
    "        Write,                  // .\n",
    "        Loop(Vec<Instruction>)  // [...]\n",
    "    }\n",
    "    ```\n",
    "\n",
    "\n",
    "    This definition allows to represent a Brainfuck program as an [abstract syntax tree](https://en.wikipedia.org/wiki/Abstract_syntax_tree), which makes program execution simple. However, it requires a bit more work when parsing the program, as we will see in a later post in this series.\n",
    "\n",
    "In this post, we will implement the next part of the interpreter: an execution engine which applies instructions to the state of the tape, and performs input and output.\n",
    "\n",
    "<!-- TEASER_END -->"
   ]
  },
  {
   "cell_type": "markdown",
   "id": "f22fb8fb-3e43-44f9-b31b-9b6577a1dfd0",
   "metadata": {},
   "source": [
    "## Importing Rust files into a Jupyter notebook\n",
    "\n",
    "I've taken the code from the [Jupyter notebook](https://github.com/freininghaus/freininghaus.github.io/blob/main/posts/2024-02-04-brainfuck-interpreter-in-rust-part1/rust-bf-part1.ipynb) that the last post was based on and copied it to proper Rust files in the directory for the new blog post: [tape.rs](https://github.com/freininghaus/freininghaus.github.io/blob/main/posts/2024-03-31-brainfuck-interpreter-in-rust-part2/src/tape.rs), [instructions.rs](https://github.com/freininghaus/freininghaus.github.io/blob/main/posts/2024-03-31-brainfuck-interpreter-in-rust-part2/src/instructions.rs).\n",
    "The [Jupyter kernel for Rust](https://github.com/evcxr/evcxr) allows to import these into the notebook that is the source of the blog post which you are currently reading:[<sup id=\"fnref:import-local-crate\">1</sup>](#fn:import-local-crate)"
   ]
  },
  {
   "cell_type": "code",
   "execution_count": 2,
   "id": "db221ef7-c909-4b52-8703-b06f05a4095f",
   "metadata": {},
   "outputs": [],
   "source": [
    ":dep rust_bf = { package = \"rust-bf\", path = \".\" }"
   ]
  },
  {
   "cell_type": "markdown",
   "id": "62dbf4ad-3f8b-4cdc-a3f7-f2a01c93db41",
   "metadata": {},
   "source": [
    "For convenience, we will import all variants of the `Instruction` enum and the `Tape` data structure:"
   ]
  },
  {
   "cell_type": "code",
   "execution_count": 3,
   "id": "8fcbf308-563b-4259-be03-ac8f82e3002d",
   "metadata": {},
   "outputs": [],
   "source": [
    "use rust_bf::{instructions::{Instruction, Instruction::*}, tape::Tape};"
   ]
  },
  {
   "cell_type": "markdown",
   "id": "732e3ecf-9388-4d09-ba21-5c85b23461ea",
   "metadata": {},
   "source": [
    "We can now create a tape and manipulate it:"
   ]
  },
  {
   "cell_type": "code",
   "execution_count": 4,
   "id": "7262eb64-8aa5-4274-b4a8-4370bf5c2f63",
   "metadata": {},
   "outputs": [
    {
     "data": {
      "text/plain": [
       "Tape { data: [5, 0, 42], pos: 0 }"
      ]
     },
     "execution_count": 4,
     "metadata": {},
     "output_type": "execute_result"
    }
   ],
   "source": [
    "let mut t = Tape::new();\n",
    "t.right();\n",
    "t.set(42);\n",
    "t.left();\n",
    "t.left();\n",
    "t.set(t.get() + 5);\n",
    "t"
   ]
  },
  {
   "cell_type": "markdown",
   "id": "a6193df1-a38a-4161-bdbf-f4f06032f4c4",
   "metadata": {},
   "source": [
    "Even though we cannot write Brainfuck programs in the usual way, we can construct the abstract syntax tree using the variants of the `Instruction` type directly:"
   ]
  },
  {
   "cell_type": "code",
   "execution_count": 5,
   "id": "74836404-3882-466c-be24-fbd89f5921e1",
   "metadata": {},
   "outputs": [],
   "source": [
    "// 1. Read a byte value \u0000from \u0000standard input.\n",
    "// 2. Wr\u0000ite\u0000 all numbers from this value down to zero to standard output.\n",
    "let program_countdown = vec![\n",
    "    Read,\n",
    "    Loop(vec![Write, Dec]),\n",
    "    Write\n",
    "];"
   ]
  },
  {
   "cell_type": "markdown",
   "id": "d06d3845-d65b-457d-a211-4c418ac5a7c0",
   "metadata": {},
   "source": [
    " But how can we execute the program?"
   ]
  },
  {
   "cell_type": "markdown",
   "id": "837f415c-4fa8-44ea-8621-7cab8c7f3cc6",
   "metadata": {},
   "source": [
    "## Step 1: programs that do not need I/O\n",
    "\n",
    "We'll start simple and look at programs which do not use the `Read` and `Write` instructions. Since such a program does not create any output, we can only observe the modifications to the tape.\n",
    "\n",
    "This is a program that will aggregate the values of neighbouring non-zero cells to one of these cells, and then terminate:[<sup id=\"fnref:initial-state-all-zeroes\">2</sup>](#fn:initial-state-all-zeroes)"
   ]
  },
  {
   "cell_type": "code",
   "execution_count": 6,
   "id": "60cd252d-1654-4a06-bf05-0cd77bc2e399",
   "metadata": {},
   "outputs": [],
   "source": [
    "let program_add = [\n",
    "    // Go right until the current cell is zero.\n",
    "    Loop(vec![Right]),  \n",
    "\n",
    "    // Go to the second non-zero cell from the right.\n",
    "    Left,\n",
    "    Left,\n",
    "\n",
    "    // As long as the current cell is non-zero:\n",
    "    // * add the value of the right neighbour cell\n",
    "    // * move the data pointer one cell to the left\n",
    "    Loop(vec![\n",
    "        Right,\n",
    "        Loop(vec![Dec, Left, Inc, Right]),\n",
    "        Left,\n",
    "        Left\n",
    "    ])\n",
    "];"
   ]
  },
  {
   "cell_type": "markdown",
   "id": "cb49d858-97aa-46e1-94e8-97b691ed515c",
   "metadata": {},
   "source": [
    "So if the initial state of the tape is such that it contains the values 3, 4, and 8 surrounded by zeroes,\n",
    "\n",
    "<table>\n",
    "<tbody>\n",
    "  <tr>\n",
    "    <td style=\"border-color:black;border-style:solid;border-width:1px\">...</td>\n",
    "    <td style=\"border-color:black;border-style:solid;border-width:1px\">0</td>\n",
    "    <td style=\"border-color:black;border-style:solid;border-width:1px\">3</td>\n",
    "    <td style=\"border-color:black;border-style:solid;border-width:1px\">4</td>\n",
    "    <td style=\"border-color:black;border-style:solid;border-width:1px\">8</td>\n",
    "    <td style=\"border-color:black;border-style:solid;border-width:1px\">0</td>\n",
    "    <td style=\"border-color:black;border-style:solid;border-width:1px\">...</td>\n",
    "  </tr>\n",
    "</tbody>\n",
    "</table>\n",
    "\n",
    "then we would expect that after runing the program, there is only one non-zero cell remaining, which contains the sum of the values:\n",
    "\n",
    "<table>\n",
    "<tbody>\n",
    "  <tr>\n",
    "    <td style=\"border-color:black;border-style:solid;border-width:1px\">...</td>\n",
    "    <td style=\"border-color:black;border-style:solid;border-width:1px\">0</td>\n",
    "    <td style=\"border-color:black;border-style:solid;border-width:1px\">15</td>\n",
    "    <td style=\"border-color:black;border-style:solid;border-width:1px\">0</td>\n",
    "    <td style=\"border-color:black;border-style:solid;border-width:1px\">0</td>\n",
    "    <td style=\"border-color:black;border-style:solid;border-width:1px\">0</td>\n",
    "    <td style=\"border-color:black;border-style:solid;border-width:1px\">...</td>\n",
    "  </tr>\n",
    "</tbody>\n",
    "</table>\n",
    "\n",
    "How can we achieve this?"
   ]
  },
  {
   "cell_type": "markdown",
   "id": "79705f35-0002-47e0-a010-137acee54ea4",
   "metadata": {},
   "source": [
    "We will first implement the skeleton of the execution function, which takes two parameters for the time being:\n",
    "*   `tape` is a mutable reference to the tape (`&mut Tape`). It needs to be mutable because the tape contents will be modified during the execution.\n",
    "*   `instructions` is a *slice* of instructions (`&[Instruction]`). Essentially, a slice combines a pointer to the start of a range of items, and the length of the range.\n",
    "    Using a slice, rather than a `Vec`, is more flexible because this allows to call the function not only with a `Vec`, but also with fixed-size arrays and parts of a `Vec` or an array.\n",
    "    Note that the Rust compiler will convert a reference to a `Vec` automatically to a slice when calling the function.[<sup id=\"fnref:deref-coercion\">3</sup>](#fn:deref-coercion)\n",
    "\n",
    "The function will then loop over `instructions`.\n",
    "\n",
    "Let's have a look at what we have so far and just print each instruction before we will see how to evaluate them:"
   ]
  },
  {
   "cell_type": "code",
   "execution_count": 7,
   "id": "83bac603-72d2-426f-ab97-41b2d685356a",
   "metadata": {},
   "outputs": [
    {
     "name": "stdout",
     "output_type": "stream",
     "text": [
      "execute instruction: Loop([Right])\n",
      "execute instruction: Left\n",
      "execute instruction: Left\n",
      "execute instruction: Loop([Right, Loop([Dec, Left, Inc, Right]), Left, Left])\n"
     ]
    }
   ],
   "source": [
    "fn execute_v1(tape: &mut Tape, instructions: &[Instruction]) {\n",
    "    for instruction in instructions {\n",
    "        println!(\"execute instruction: {:?}\", instruction);\n",
    "    }\n",
    "}\n",
    "\n",
    "let mut t = Tape::new();\n",
    "execute_v1(&mut t, &program_add);"
   ]
  },
  {
   "cell_type": "markdown",
   "id": "3e17d696-348a-4770-b0ea-781493bf1b4e",
   "metadata": {},
   "source": [
    "Now we want to do something useful with our instructions.\n",
    "\n",
    "Enum values, such as our instructions of type `Instruction`, are usually evaluated using pattern matching in Rust. A match expression looks like this:"
   ]
  },
  {
   "cell_type": "code",
   "execution_count": 8,
   "id": "36591593-7c5c-4b5d-beba-5427d328a14d",
   "metadata": {},
   "outputs": [
    {
     "name": "stdout",
     "output_type": "stream",
     "text": [
      "instruction: left \n",
      "instruction: right \n",
      "instruction: + \n",
      "instruction: - \n",
      "instruction: loop \n",
      "instruction: ? \n",
      "instruction: ? \n"
     ]
    }
   ],
   "source": [
    "for instruction in [Left, Right, Inc, Dec, Loop(vec![Dec, Right]), Read, Write] {\n",
    "    let result = match instruction {\n",
    "        Left => \"left\",\n",
    "        Right => \"right\",\n",
    "        Inc => \"+\",\n",
    "        Dec => \"-\",\n",
    "        Loop(body) => \"loop\",\n",
    "        _ => \"?\"\n",
    "    };\n",
    "    println!(\"instruction: {} \", result);\n",
    "};"
   ]
  },
  {
   "cell_type": "markdown",
   "id": "f03c043a-fd02-47ff-9763-4091bdfec12e",
   "metadata": {},
   "source": [
    "It contains match arms, which consist of a pattern, and some code that is evaluated if the pattern matches the value. In this simple example, the code is just a string constant for each case."
   ]
  },
  {
   "cell_type": "markdown",
   "id": "7c4b7ac9-c7eb-4a2c-8d78-42e8c64a459a",
   "metadata": {},
   "source": [
    "Now we can think about what code to execute for each instruction:\n",
    "*   `Left` and `Right` are easy: for these, we just have to call `tape.left()` and `tape.right()`, respectively.\n",
    "*   For `Inc`, we have to increase the value of the current cell: `tape.set(tape.get() + 1)`\n",
    "*   Analogously for `Dec`: `tape.set(tape.get() - 1)`\n",
    "\n",
    "When we encounter a `Loop` instruction, we have to check if the current cell is zero. If that is not the case, we repeatedly execute all instructions in the loop body until the current cell becomes zero:\n",
    "\n",
    "```rust\n",
    "while tape.get() != 0 {\n",
    "    execute(&mut tape, body)\n",
    "}\n",
    "```\n",
    "\n",
    "If we put everything together, we end up with this function that can execute any Brainfuck program without `Read` and `Write` instructions:"
   ]
  },
  {
   "cell_type": "code",
   "execution_count": 9,
   "id": "0f536ac1-125a-4eba-b0f3-00b6950408ac",
   "metadata": {},
   "outputs": [],
   "source": [
    "fn execute_v2(tape: &mut Tape, instructions: &[Instruction]) {\n",
    "    for instruction in instructions {\n",
    "        match instruction {\n",
    "            Left => tape.left(),\n",
    "            Right => tape.right(),\n",
    "            Inc => tape.set(tape.get() + 1),\n",
    "            Dec => tape.set(tape.get() - 1),\n",
    "            Loop(body) => {\n",
    "                while tape.get() != 0 {\n",
    "                    execute_v2(tape, body)\n",
    "                }\n",
    "            }\n",
    "            _ => panic!(\"Read and Write are not handled yet!\")\n",
    "        }\n",
    "    }\n",
    "}"
   ]
  },
  {
   "cell_type": "markdown",
   "id": "d78466d6-ea9b-432d-9c30-14222701f5c4",
   "metadata": {},
   "source": [
    "Note that we must handle all cases in the match expression, or the code will not compile. Here we use the `panic!` macro, which usually aborts the process with the given error message, if the `Read` or `Write` instructions are used.\n",
    "\n",
    "We can now try to execute our program that sums the numbers on the tape:"
   ]
  },
  {
   "cell_type": "code",
   "execution_count": 10,
   "id": "1cd0098e-1e2f-4c03-9d14-43636a6b3095",
   "metadata": {},
   "outputs": [
    {
     "name": "stdout",
     "output_type": "stream",
     "text": [
      "Initial state: Tape { data: [3, 4, 8], pos: 0 }\n",
      "Final state:   Tape { data: [0, 15, 0, 0, 0], pos: 0 }\n"
     ]
    }
   ],
   "source": [
    "let mut t = Tape::new();\n",
    "t.set(3);\n",
    "t.right();\n",
    "t.set(4);\n",
    "t.right();\n",
    "t.set(8);\n",
    "t.left();\n",
    "t.left();\n",
    "\n",
    "println!(\"Initial state: {:?}\", t);\n",
    "\n",
    "execute_v2(&mut t, &program_add);\n",
    "\n",
    "println!(\"Final state:   {:?}\", t);"
   ]
  },
  {
   "cell_type": "markdown",
   "id": "36830b20-a63e-48bd-a936-8bdc61320e21",
   "metadata": {},
   "source": [
    "It works!\n",
    "\n",
    "Note that every cell which has once been the current cell has got the value zero. This is not significant though because every cell which has not been visited yet has the value zero implicitly."
   ]
  },
  {
   "cell_type": "markdown",
   "id": "114ad484-d628-4d42-8df9-00c00a16b90b",
   "metadata": {},
   "source": [
    "## Step 2: input and output\n",
    "\n",
    "So far, we have ignored the instructions `Read` and `Write` (denoted by ',' and '.' in Brainfuck source code).\n",
    "\n",
    "We can implement match arms for them in the execution function as follows.\n",
    "\n",
    "For `Read`, we could access standard input with the function [`std::io::stdin()`](https://doc.rust-lang.org/std/io/fn.stdin.html) , and read a byte from it with [`read_exact(...)`](https://doc.rust-lang.org/std/io/struct.Stdin.html#method.read_exact). The following function shows how it works:"
   ]
  },
  {
   "cell_type": "code",
   "execution_count": 11,
   "id": "87e9c7ac-4a96-44bb-b7c1-8b9f72ed3759",
   "metadata": {},
   "outputs": [],
   "source": [
    "use std::io::Read;  // needed to bring read_exact(...) into scope\n",
    "\n",
    "fn read() -> u8 {\n",
    "    let mut buf: [u8; 1] = [0];\n",
    "    std::io::stdin().read_exact(&mut buf).unwrap();\n",
    "    buf[0]\n",
    "}"
   ]
  },
  {
   "cell_type": "markdown",
   "id": "4c0f7a21-4909-4b9e-ac4a-58de7adcf964",
   "metadata": {},
   "source": [
    "`read_exact(...)` tries to fill the given `u8` slice with bytes from standard input. The reason why we call `unwrap()` on its return value is the following:\n",
    "\n",
    "In Rust, functions that can fail usually return a value of the type `Result<T, E>`, where `T` is the type that a successful execution of the function would yield, and `E` is an error type. For `read_exact(...)`, which returns no useful information in the successful case, `T` is `()`, the empty type.\n",
    "`Result` is an enum with two variants:\n",
    "*   A value of type `Ok(T)` is returned if the function execution was successful.\n",
    "*   An `Err(E)` signals that an error occurred.\n",
    "\n",
    "Therefore, it is impossible to forget error handling if the return value is used.\n",
    "There are several ways to work with results and errors. Here we choose to call `.unwrap()` on the result, which unwraps the value from `Ok`, and panics if the result is actually an `Err`.\n",
    "Using `unwrap` is useful in two situations:\n",
    "*   If we are 100% sure that there cannot be an `Err` value in the result because we know that some preconditions are fulfilled which guarantee success.\n",
    "*   If a panic is acceptable, e.g., because we are just experimenting, and not writing production code.\n",
    "\n",
    "Note that since we do not need the empty result value of `read_exact(...)` at all in this particular case, we could in principle forget to handle errors. \n",
    "The code would compile just fine without calling `.unwrap()`, but the compiler would warn about the lack of error handling (at least outside Jupyter notebooks).\n",
    "\n",
    "In a future post, we will discuss how to handle all errors properly in our Brainfuck interpreter.\n",
    "\n",
    "Similarly, we can use [`std::io::stdout()`](https://doc.rust-lang.org/std/io/fn.stdout.html) to access standard output for the `Write` instruction, and write a byte to it with [`write_all(...)`](https://doc.rust-lang.org/std/io/struct.Stdout.html#method.write_all-1):"
   ]
  },
  {
   "cell_type": "code",
   "execution_count": 12,
   "id": "e94aeefc-ef28-4591-bb85-cd3194fa41b9",
   "metadata": {},
   "outputs": [],
   "source": [
    "use std::io::Write;  // needed to bring `write(...)` into scope\n",
    "\n",
    "fn write(value: u8) {\n",
    "    std::io::stdout().write(&[value]).unwrap();\n",
    "}"
   ]
  },
  {
   "cell_type": "markdown",
   "id": "e3e13d9d-bb5a-4184-9784-a0e49c28d66d",
   "metadata": {},
   "source": [
    "Similar to what we saw for reading, `write(...)` will attempt to write bytes from a `u8` slice to standard output, and return `Ok(n)` if `n` bytes were written successfully. Again, we simply unwrap the result value and postpone proper error handling to a future blog post.\n",
    "\n",
    "The function which executes Brainfuck code, including input and output, now looks like this:"
   ]
  },
  {
   "cell_type": "code",
   "execution_count": 13,
   "id": "cb222795-d612-4a31-9bb1-3e2f479b8b01",
   "metadata": {},
   "outputs": [],
   "source": [
    "fn execute_v3(tape: &mut Tape, instructions: &[Instruction]) {\n",
    "    for instruction in instructions {\n",
    "        match instruction {\n",
    "            Left => tape.left(),\n",
    "            Right => tape.right(),\n",
    "            Inc => tape.set(tape.get() + 1),\n",
    "            Dec => tape.set(tape.get() - 1),\n",
    "            Loop(body) => {\n",
    "                while tape.get() != 0 {\n",
    "                    execute_v3(tape, body)\n",
    "                }\n",
    "            }\n",
    "            Read => {\n",
    "                let mut buf: [u8; 1] = [0];\n",
    "                std::io::stdin().read_exact(&mut buf).unwrap();\n",
    "                tape.set(buf[0])\n",
    "            }\n",
    "            Write => {\n",
    "                std::io::stdout().write(&[tape.get()]).unwrap();\n",
    "            }\n",
    "        }\n",
    "    }\n",
    "}"
   ]
  },
  {
   "cell_type": "markdown",
   "id": "8ea491ac-90e1-4284-927b-14a4a68fa11d",
   "metadata": {},
   "source": [
    "To test it, we will try the following program which is the equivalent of \n",
    "```rust\n",
    "print!(\"#\\n\");\n",
    "```\n",
    "in Rust:"
   ]
  },
  {
   "cell_type": "code",
   "execution_count": 14,
   "id": "259fe36f-be39-4bb3-935f-e6fa27a45aef",
   "metadata": {},
   "outputs": [],
   "source": [
    "let print_hash = vec![\n",
    "    // load ASCII value for '#' (35)\n",
    "    Inc, Inc, Inc, Inc, Inc, Inc, Inc, Inc, Inc, Inc,\n",
    "    Inc, Inc, Inc, Inc, Inc, Inc, Inc, Inc, Inc, Inc,\n",
    "    Inc, Inc, Inc, Inc, Inc, Inc, Inc, Inc, Inc, Inc,\n",
    "    Inc, Inc, Inc, Inc, Inc,\n",
    "\n",
    "    // write to stdout\n",
    "    Write,\n",
    "\n",
    "    // clear the current cell\n",
    "    Loop(vec![Dec]),\n",
    "\n",
    "    // load ASCII value for '\\n' (10)\n",
    "    Inc, Inc, Inc, Inc, Inc, Inc, Inc, Inc, Inc, Inc,\n",
    "\n",
    "    // write to stdout\n",
    "    Write\n",
    "];"
   ]
  },
  {
   "cell_type": "code",
   "execution_count": 15,
   "id": "f3cf61ae-e43e-4444-ad2f-03cde1335f71",
   "metadata": {},
   "outputs": [
    {
     "name": "stdout",
     "output_type": "stream",
     "text": [
      "#\n"
     ]
    }
   ],
   "source": [
    "let mut t = Tape::new();\n",
    "execute_v3(&mut t, &print_hash);"
   ]
  },
  {
   "cell_type": "markdown",
   "id": "872f0ef2-0f6a-4813-bc40-5b7def81e4cc",
   "metadata": {},
   "source": [
    "Input also works, but cannot be demonstrated easily in a Jupyter notebook."
   ]
  },
  {
   "cell_type": "markdown",
   "id": "d4f06a29-d490-41ea-8676-c1efb7e4aa40",
   "metadata": {},
   "source": [
    "## Making input and output more flexible and testable with the traits `Read` and `Write`\n",
    "We will now make the function `execute(...)` more generic, such that it does not use standard input and standard output directly. Instead, we will make the function accept parameters which define where data should be read from and written to. We can then just pass `std::io::stdin()` and `std::io::stdout()` to this function to get the same behavior that we had so far.\n",
    "\n",
    "This approach has some advantages\n",
    "*   We can simulate input even in a Jupyter notebook.\n",
    "*   More importantly: we can write unit tests for our execution engine. These tests can provide input data and verify output data.\n",
    "\n",
    "How does this work?\n",
    "\n",
    "Here is a generic function that writes a byte to a given destination:"
   ]
  },
  {
   "cell_type": "code",
   "execution_count": 16,
   "id": "f47b817e-b836-47b8-bad2-2d8293d4b8b6",
   "metadata": {},
   "outputs": [],
   "source": [
    "fn write<W: Write>(dest: &mut W, value: u8) {\n",
    "    let mut buf: [u8; 1] = [value];\n",
    "    dest.write_all(&mut buf).unwrap();\n",
    "}"
   ]
  },
  {
   "cell_type": "markdown",
   "id": "04c3afe7-9799-4d69-a949-88c686105fd3",
   "metadata": {},
   "source": [
    "The function now accepts a parameter of the generic type `W`. The type is not completely arbitrary: the angle brackets between function name and parameter list tell that the type must implement the [`Write` trait](https://doc.rust-lang.org/std/io/trait.Write.html). Without this restriction, the compiler would not accept the call to `write_all(...)` because this function is provided by the trait.\n",
    "\n",
    "Rust traits are a bit like interfaces in, e.g., Java and concepts in C++.[<sup id=\"fnref:trait-objects\">4</sup>](#fn:trait-objects) They describe what conditions a type must fulfil. The `Write` trait describes things that bytes can be written to. So we can call this function with standard output:"
   ]
  },
  {
   "cell_type": "code",
   "execution_count": 17,
   "id": "9f430c91-02d2-4466-ba16-810d48abd41a",
   "metadata": {},
   "outputs": [
    {
     "name": "stdout",
     "output_type": "stream",
     "text": [
      "#\n"
     ]
    }
   ],
   "source": [
    "write(&mut std::io::stdout(), b'#');\n",
    "write(&mut std::io::stdout(), b'\\n');"
   ]
  },
  {
   "cell_type": "markdown",
   "id": "9d3df08c-88b9-4c3e-a0bc-6927de98b4ab",
   "metadata": {},
   "source": [
    "But we can also use other types which implement `Write`. This includes `Vec<u8>`, a vector of bytes. The written bytes will just be appended to the vector:[<sup id=\"fnref:type-deduction\">5</sup>](#fn:type-deduction)"
   ]
  },
  {
   "cell_type": "code",
   "execution_count": 18,
   "id": "005890ee-e405-4ff3-985f-2b47bce361de",
   "metadata": {},
   "outputs": [
    {
     "name": "stdout",
     "output_type": "stream",
     "text": [
      "data=[35, 10]\n",
      "data as str: Ok(\"#\\n\")\n"
     ]
    }
   ],
   "source": [
    "let mut data = Vec::new();\n",
    "write(&mut data, b'#');\n",
    "write(&mut data, b'\\n');\n",
    "println!(\"data={:?}\", data);\n",
    "\n",
    "// We can also interpret the Vec<u8> as an UTF-8 string.\n",
    "// Note that from_utf8(...) returns a Result because it\n",
    "// would fail for input which is not valid UTF-8:\n",
    "println!(\"data as str: {:?}\", std::str::from_utf8(&data));"
   ]
  },
  {
   "cell_type": "markdown",
   "id": "2002ead4-43b4-4c57-8d21-b186bbf9a897",
   "metadata": {},
   "source": [
    "We can make the input that we read from generic in the same way by using the `Read` trait.\n",
    "\n",
    "Our generic execution function then looks like this:"
   ]
  },
  {
   "cell_type": "code",
   "execution_count": 19,
   "id": "3f90b6ce-e769-49a4-9837-ffb3d53cc07b",
   "metadata": {},
   "outputs": [],
   "source": [
    "fn execute_v4<R: Read, W: Write>(tape: &mut Tape, instructions: &[Instruction], input: &mut R, output: &mut W) {\n",
    "    for instruction in instructions {\n",
    "        match instruction {\n",
    "            Left => tape.left(),\n",
    "            Right => tape.right(),\n",
    "            Inc => tape.set(tape.get() + 1),\n",
    "            Dec => tape.set(tape.get() - 1),\n",
    "            Loop(body) => {\n",
    "                while tape.get() != 0 {\n",
    "                    execute_v4(tape, body, input, output)\n",
    "                }\n",
    "            }\n",
    "            Read => {\n",
    "                let mut buf: [u8; 1] = [0];\n",
    "                input.read_exact(&mut buf).unwrap();\n",
    "                tape.set(buf[0])\n",
    "            }\n",
    "            Write => {\n",
    "                output.write(&[tape.get()]).unwrap();\n",
    "            }\n",
    "        }\n",
    "    }\n",
    "}"
   ]
  },
  {
   "cell_type": "markdown",
   "id": "b059771f-5819-4cd5-9ab5-818feb7f391c",
   "metadata": {},
   "source": [
    "To test this execution function, we will use the countdown program that we saw earlier:"
   ]
  },
  {
   "cell_type": "code",
   "execution_count": 20,
   "id": "f1e9d049-d4c4-4cb5-b7e2-8353f44c7dc9",
   "metadata": {},
   "outputs": [],
   "source": [
    "// 1. Read a byte value \u0000from \u0000standard input.\n",
    "// 2. Wr\u0000ite\u0000 all numbers from this value down to zero to standard output.\n",
    "let program_countdown = vec![\n",
    "    Read,\n",
    "    Loop(vec![Write, Dec]),\n",
    "    Write\n",
    "];"
   ]
  },
  {
   "cell_type": "markdown",
   "id": "5b928101-7df3-430e-8316-834c5de4f28e",
   "metadata": {},
   "source": [
    "Given a byte with the value 10 as input, the program produces this output:[<sup id=\"fnref:variable-scope\">6</sup>](#fn:variable-scope)"
   ]
  },
  {
   "cell_type": "code",
   "execution_count": 21,
   "id": "97239b3a-7691-4db0-8786-2234260cf774",
   "metadata": {},
   "outputs": [
    {
     "name": "stdout",
     "output_type": "stream",
     "text": [
      "remaining input: []\n",
      "output: [10, 9, 8, 7, 6, 5, 4, 3, 2, 1, 0]\n"
     ]
    }
   ],
   "source": [
    "{\n",
    "    let ten = vec![10];\n",
    "    let mut input: &[u8] = &ten;\n",
    "    let mut output = Vec::new();\n",
    "    let mut t = Tape::new();\n",
    "    \n",
    "    execute_v4(&mut t, &program_countdown, &mut input, &mut output);\n",
    "\n",
    "    println!(\"remaining input: {:?}\", input);\n",
    "    println!(\"output: {:?}\", output);\n",
    "};"
   ]
  },
  {
   "cell_type": "markdown",
   "id": "1d0cf9ed-d8fc-42c5-8556-57116ec977ef",
   "metadata": {},
   "source": [
    "So it works as expected 🙂"
   ]
  },
  {
   "cell_type": "markdown",
   "id": "196beaca-a2d6-4d3b-bd2d-a8a8c3fdc92c",
   "metadata": {},
   "source": [
    "## Summary and outlook\n",
    "We have combined the tape data structure and the instruction data type from the last post, and implemented a function that can execute the abstract syntax tree for any Brainfuck program in the context of the tape. Input and output were handled in a generic way using the `Read` and `Write` traits, such that program execution can be tested easily.\n",
    "\n",
    "In the next post, we will implement a parser that transforms Brainfuck source code to an abstract syntax tree."
   ]
  },
  {
   "cell_type": "markdown",
   "id": "61adf228-2eac-4f9c-913a-752817dc5aea",
   "metadata": {},
   "source": [
    "---\n",
    "\n",
    "1.  <span id=\"fn:import-local-crate\">The</span> [documentation](https://github.com/evcxr/evcxr/blob/main/COMMON.md) for the Rust Jupyter kernel describes how to do this (search for \"*You can use the local work-in-progress crate like this*\"). [&#8617;](#fnref:import-local-crate)\n",
    "\n",
    "1. <span id=\"fn:initial-state-all-zeroes\">Note</span> that Brainfuck programs usually operate on a tape which has all cells initialized to zero. So strictly speaking, a program that only sums the initial cell values does not make much sense. It is only used to test our intermediate step on the way to a full-featured Brainfuck execution engine here.[&#8617;](#fnref:initial-state-all-zeroes)\n",
    "\n",
    "1.  <span id=\"fn:deref-coercion\">This</span> feature is called [deref coercion](https://doc.rust-lang.org/book/ch15-02-deref.html#implicit-deref-coercions-with-functions-and-methods). [&#8617;](#fnref:deref-coercion)\n",
    "\n",
    "1.  <span id=\"fn:trait-objects\">Our</span> generic function `write<W: Write>(...)` is like a template in C++ in the sense that the compiler will generate separate assembly for each type that the function is used with. So our use of traits to define conditions that the type must fulfil corresponds more to concepts in C++ than to interfaces in Java. However, traits can also be used in a more dynamic way, such that only one version of the function exists in assembly and machine code, and dispatch is done dynamically at runtime with virtual function calls. This is more like what interfaces in Java and abstract base classes in C++ are used for.\n",
    "\n",
    "    Here is an example function, which gets a so-called *trait object* as a parameter:\n",
    "    ```rust\n",
    "    fn write_trait_object(w: &mut dyn Write, value: u8) {\n",
    "        let mut buf: [u8; 1] = [value];\n",
    "        w.write_all(&mut buf).unwrap();\n",
    "    }\n",
    "    ```\n",
    "    It can be called with standard output as the writer like this:\n",
    "    ```rust\n",
    "    write_trait_object(&mut std::io::stdout(), b'#');\n",
    "    write_trait_object(&mut std::io::stdout(), b'\\n');\n",
    "    ```\n",
    "    The differences to our earlier function `write<W: Write>(...)` are:\n",
    "    *   Only one version of the function exists for all types in machine code, so the size of the compiled program might be lower.\n",
    "    *   Due to dynamic dispatch at runtime, there may be a small performance penalty. Moreover, the compiler cannot perform optimizations for specific types that the function is used with. This could harm performance and increase the size of the compiled program.\n",
    "  \n",
    "    It can be tempting to use static dispatch and have the compiler generate optimal code for each type to improve the performance, but adding type annotations to functions and structs also has costs. In particular, it can harm developer productivity if done too excessively. The other day, I read a [very interesting blog post about a refactoring to static dispatch that the author considered a mistake](https://jmmv.dev/2023/08/rust-static-dispatch-failed-experiment.html).[&#8617;](#fnref:trait-objects)\n",
    "\n",
    "1.  <span id=\"fn:type-deduction\">Note</span> that we do not have to state the type `Vec<u8>` explicitly when we create the Vec with `Vec::new()`. We could do it in two different ways:\n",
    "    ```rust\n",
    "    let mut data: Vec<u8> = Vec::new();\n",
    "    ```\n",
    "    or\n",
    "    ```rust\n",
    "    let mut data = Vec::<u8>::new();\n",
    "    ```\n",
    "    \n",
    "    But the Rust compiler will deduce the type automatically here because we call the `write(...)` method of the `Write` trait on it, which `Vec<T>` only implements for `T` is `u8`.[&#8617;](#fnref:type-deduction)\n",
    "\n",
    "1.  <span id=\"fn:variable-scope\">I</span> have wrapped the code in this cell in braces (`{...}`) because compilation will fail with this error otherwise:\n",
    "\n",
    "    `Error: The variable input contains a reference with a non-static lifetime so can't be persisted. You can prevent this error by making sure that the variable goes out of scope - i.e. wrapping the code in {}.`\n",
    "\n",
    "    You would not have this problem outside a Jupyter notebook, because then `input` would have a well-define life time.\n",
    "\n",
    "    Another way to fix this issue besides the braces would be to redefine the variable `input`:\n",
    "    ```rust\n",
    "    let input = 0;\n",
    "    ```\n",
    "    Then the old variable `input` would also go out of scope. In Rust, variable names can be reused in the same scope, which can be confusing at first. I found this feature quite useful though after I got used to it.[&#8617;](#fnref:variable-scope)"
   ]
  }
 ],
 "metadata": {
  "kernelspec": {
   "display_name": "Rust",
   "language": "rust",
   "name": "rust"
  },
  "language_info": {
   "codemirror_mode": "rust",
   "file_extension": ".rs",
   "mimetype": "text/rust",
   "name": "Rust",
   "pygment_lexer": "rust",
   "version": ""
  },
  "nikola": {
   "date": "2024-03-31 20:49:14 UTC",
   "slug": "../../blog/2024/03/31/brainfuck-interpreter-in-rust-part2",
   "tags": "rust",
   "title": "Learn Rust by building a Brainfuck interpreter, part 2: the execution engine"
  }
 },
 "nbformat": 4,
 "nbformat_minor": 5
}
