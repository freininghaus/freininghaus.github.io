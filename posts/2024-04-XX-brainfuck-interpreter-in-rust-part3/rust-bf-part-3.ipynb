{
 "cells": [
  {
   "cell_type": "markdown",
   "id": "3f87b73d-99f3-4333-9e03-0278d843336b",
   "metadata": {
    "jp-MarkdownHeadingCollapsed": true
   },
   "source": [
    "## Introduction\n",
    "\n",
    "This is the third in a series of posts that build a Brainfuck interpreter in Rust.\n",
    "*   In the [first post](../../../../2024/02/04/brainfuck-interpreter-in-rust-part1), we created the first building blocks for our Brainfuck interpreter in Rust: a data structure for the tape, and a data type for the instructions. The instructions are based on Rust's enums, which allow to build powerful [algebraic data types](https://en.wikipedia.org/wiki/Algebraic_data_type).\n",
    "*   In the [second post](../../../../2024/03/31/brainfuck-interpreter-in-rust-part2), we built an execution engine that can execute a Brainfuck program which is represented by an [abstract syntax tree](https://en.wikipedia.org/wiki/Abstract_syntax_tree) in the context of a tape. We used the `Read` and `Write` traits to make our execution function generic, such that we could not only read from standard input and write to standard output, but also, e.g., read from byte slices and write to a vector of bytes. This makes unit testing easy.\n",
    "\n",
    "Currently, we can only execute programs which are given as abstract syntax trees in Rust data structures, such as ***TODO: use a program with < and >. Maybe the Fibonacci one?***\n",
    "```rust\n",
    "vec![\n",
    "    Read,\n",
    "    Loop(vec![Write, Dec]),\n",
    "    Write\n",
    "];\n",
    "```\n",
    "In Brainfuck source code, this looks like this: `,[.-].`\n",
    "\n",
    "In the current post, we will find ways to transform the latter into the former, i.e., to parse Brainfuck source code and generate an abstract syntax tree.\n",
    "\n",
    "***Please note:** I intentionally did this first without using libraries. I wanted to build a simple parser from scratch, and I found that I learned a lot this way. Therefore, I found it appropriate to write a blog post about it. However, building a parser with the help of libraries that are designed for this purpose is **much** easier and less error-prone. In a future post in this series, we will implement a better parser using the [Rust crate nom](https://docs.rs/nom/latest/nom/).*\n",
    "\n",
    "<!-- TEASER_END -->"
   ]
  },
  {
   "cell_type": "markdown",
   "id": "f22fb8fb-3e43-44f9-b31b-9b6577a1dfd0",
   "metadata": {},
   "source": [
    "## Importing what we did so far into a Jupyter notebook\n",
    "\n",
    "I've taken the code from the [Jupyter](https://github.com/freininghaus/freininghaus.github.io/blob/main/posts/2024-02-04-brainfuck-interpreter-in-rust-part1/rust-bf-part1.ipynb) [notebooks](https://github.com/freininghaus/freininghaus.github.io/blob/main/posts/2024-03-31-brainfuck-interpreter-in-rust-part2/rust-bf-part-2.ipynb) that the first posts in this series were based on and copied it to proper Rust files in the directory for the new blog post: ***TODO: provide link to src directory here***\n",
    "\n",
    "Just like in the last post, we will import these into the Jupyter notebook that is the source of the current blog post:"
   ]
  },
  {
   "cell_type": "code",
   "execution_count": 2,
   "id": "db221ef7-c909-4b52-8703-b06f05a4095f",
   "metadata": {},
   "outputs": [],
   "source": [
    ":dep rust_bf = { package = \"rust-bf\", path = \".\" }\n",
    "    \n",
    "use rust_bf::{instructions::{Instruction, Instruction::*}, tape::Tape, executor::execute};"
   ]
  },
  {
   "cell_type": "markdown",
   "id": "732e3ecf-9388-4d09-ba21-5c85b23461ea",
   "metadata": {},
   "source": [
    "A small extension compared to the last post is that the function that executes Brainfuck code now creates an empty Tape, so we can run programs more easily. We'll show this with a somewhat silly example program that reads a number $n$, then reads $n$ bytes, decreases each of them by one, and writes them. Finally, it writes a newline character (`\\n`):"
   ]
  },
  {
   "cell_type": "code",
   "execution_count": 3,
   "id": "a068a458-70aa-4a6e-b02f-0f2fd79a023c",
   "metadata": {},
   "outputs": [],
   "source": [
    "let transform_input = vec![\n",
    "    // read number of items (n)\n",
    "    Read,\n",
    "    \n",
    "    Loop(vec![\n",
    "        // decrease n by one\n",
    "        Dec, \n",
    "\n",
    "        // go right, read input, decrease by one, write output, go left\n",
    "        Right, Read, Dec, Write, Left\n",
    "    ]), \n",
    "\n",
    "    // set current cell to 10 (ASCII code for newline, \\n)\n",
    "    Inc, Inc, Inc, Inc, Inc, Inc, Inc, Inc, Inc, Inc,\n",
    "\n",
    "    // write output\n",
    "    Write\n",
    "];"
   ]
  },
  {
   "cell_type": "markdown",
   "id": "26dd4d96-45a7-4915-bce8-c25724158b39",
   "metadata": {},
   "source": [
    "We will now execute this program and see what it does with the byte sequence `b\"\\x0cIfmmp!Xpsme\\\"\"` as input:"
   ]
  },
  {
   "cell_type": "code",
   "execution_count": 4,
   "id": "701dfc03-2098-4add-83a1-a31cbe1751f5",
   "metadata": {},
   "outputs": [
    {
     "name": "stdout",
     "output_type": "stream",
     "text": [
      "Hello World!\n"
     ]
    }
   ],
   "source": [
    "let encrypted_message = b\"\\x0cIfmmp!Xpsme\\\"\";\n",
    "let mut m: &[u8] = encrypted_message;\n",
    "execute(&transform_input, &mut m, &mut std::io::stdout());"
   ]
  },
  {
   "cell_type": "markdown",
   "id": "1e15189a-45cc-422e-bb1e-94ee62f21af9",
   "metadata": {},
   "source": [
    "With the generic function `execute`, we can mix and match input and output objects as long as they implement the traits `Read` and `Write`, respectively. In particular, we can use a `Vec<u8>` as output object. In the following, the following function will be useful, which uses a byte slice as input and writes the output both as a byte slice and as an UTF-8 string:"
   ]
  },
  {
   "cell_type": "code",
   "execution_count": 5,
   "id": "d6d3f67d-fdc3-43ca-ae7d-26c5c96eaefd",
   "metadata": {},
   "outputs": [],
   "source": [
    "fn execute_with_input(program: &[Instruction], input: &[u8]) {\n",
    "    let mut output = Vec::new();\n",
    "    let mut input: &[u8] = input;\n",
    "\n",
    "    execute(program, &mut input, &mut output);\n",
    "\n",
    "    println!(\"Output as bytes: {:?}\", output);\n",
    "    println!(\"Output as str:   {:?}\", std::str::from_utf8(&output));\n",
    "}"
   ]
  },
  {
   "cell_type": "markdown",
   "id": "dc169d1e-7cfc-44e4-866d-a1fdcb4b54a5",
   "metadata": {},
   "source": [
    "We will test it with the program `transform_output` and the encrypted message from above:"
   ]
  },
  {
   "cell_type": "code",
   "execution_count": 7,
   "id": "cda6cf9e-876f-450f-b4c7-ce272bb9fff2",
   "metadata": {},
   "outputs": [
    {
     "name": "stdout",
     "output_type": "stream",
     "text": [
      "Output as bytes: [72, 101, 108, 108, 111, 32, 87, 111, 114, 108, 100, 33, 10]\n",
      "Output as str:   Ok(\"Hello World!\\n\")\n"
     ]
    }
   ],
   "source": [
    "execute_with_input(&transform_input, encrypted_message);"
   ]
  },
  {
   "cell_type": "markdown",
   "id": "732ccaf8-6ce4-48dc-954a-ced11a920975",
   "metadata": {},
   "source": [
    "## Step 1: parse programs without loops\n",
    "Since the hardest part of parsing Brainfuck code is to handle loops, we will start simple and first parse loop-less programs. A simple example is a variant of `transform_input` which does not read the byte count and uses a hard-coded number of input bytes instead. Then we can unroll the loop. For 12 input bytes, which happens to be the length of the string `Hello World!`, this is equivalent to the following source code. Note that all characters which are not mapped to Brainfuck instructions are considered comments: ***TODO: footnote about using bytes to avoid Unicode complications (especially lengths later on and iteration over characters)***"
   ]
  },
  {
   "cell_type": "code",
   "execution_count": 8,
   "id": "80b1f9f7-d777-4992-825f-3a436a8ffcc1",
   "metadata": {},
   "outputs": [],
   "source": [
    "let transform_12_input_bytes_source = \n",
    "b\"  ,-.         Repeat 12 times:\n",
    "    ,-.         * read a number\n",
    "    ,-.         * decrease by one\n",
    "    ,-.         * write it\n",
    "    ,-.\n",
    "    ,-.\n",
    "    ,-.\n",
    "    ,-.\n",
    "    ,-.\n",
    "    ,-.\n",
    "    ,-.\n",
    "    ,-.\n",
    "\n",
    "    >           go right to an empty cell\n",
    "    ++++++++++  store 10 (\\n)\n",
    "    .           write output\n",
    "\";"
   ]
  },
  {
   "cell_type": "markdown",
   "id": "01f9ce74-ada5-42c1-a96e-d93f694b5c93",
   "metadata": {},
   "source": [
    "We will split the parsing process into two functions, the first of which takes a single input character and returns an *optional* instruction:"
   ]
  },
  {
   "cell_type": "code",
   "execution_count": 10,
   "id": "6e46ea0e-4a65-4d90-96a7-9eabbe0c7711",
   "metadata": {},
   "outputs": [],
   "source": [
    "fn parse_simple_instruction(c: &u8) -> Option<Instruction> {\n",
    "    match c {\n",
    "        b'<' => Some(Left),\n",
    "        b'>' => Some(Right),\n",
    "        b'+' => Some(Inc),\n",
    "        b'-' => Some(Dec),\n",
    "        b',' => Some(Read),\n",
    "        b'.' => Some(Write),\n",
    "        b'[' | b']' => panic!(\"parse_simple_instruction cannot handle loops\"),\n",
    "        _ => None\n",
    "    }\n",
    "}"
   ]
  },
  {
   "cell_type": "markdown",
   "id": "34df31fe-f257-4b85-b9ce-22d57c12f280",
   "metadata": {},
   "source": [
    "[`Option<T>`](https://doc.rust-lang.org/std/option/enum.Option.html) is an enum which has the two variants\n",
    "* `None`, which corresponds to an empty value,\n",
    "* `Some(T)`, which holds a value of type `T`.\n",
    "\n",
    "This concept will look familiar to readers who have used optional values in other languages, like, e.g., [`std::optional`](https://en.cppreference.com/w/cpp/utility/optional) in C++ or [`Maybe`](https://wiki.haskell.org/Maybe) in Haskell. ***TODO footnote Java, null, Optional***"
   ]
  },
  {
   "cell_type": "markdown",
   "id": "07fbb166-ff49-4af2-b654-6077261e9332",
   "metadata": {},
   "source": [
    "We want to apply this function to every character in the Brainfuck source code. This could be done with a `for` loop, but it is easier to make use of iterators by applying a sequence of functions to transform the source into the result we want. I will not describe the basics of iterators in great detail here (see the [relevant chapter in The Rust Programming Language](https://doc.rust-lang.org/book/ch13-02-iterators.html) or the [standard library documentation](https://doc.rust-lang.org/std/iter/trait.Iterator.html)), but much of what you can do with iterators should be easy to follow for readers who have experience with, e.g., streams in Java, views in C++, list transformations in Haskell, or similar constructs in other languages. Here we parse a small Brainfuck source snippet including comments:"
   ]
  },
  {
   "cell_type": "code",
   "execution_count": 11,
   "id": "5ca366cc-573c-425a-9b28-809cf719c544",
   "metadata": {},
   "outputs": [
    {
     "data": {
      "text/plain": [
       "[Some(Write), Some(Dec), Some(Read), None, None, None, None, None, None, None, None]"
      ]
     },
     "execution_count": 11,
     "metadata": {},
     "output_type": "execute_result"
    }
   ],
   "source": [
    "&b\".-, comment\"\n",
    "    .iter()\n",
    "    .map(parse_simple_instruction)\n",
    "    .collect::<Vec<_>>()"
   ]
  },
  {
   "cell_type": "markdown",
   "id": "1e651f71-1dda-4a1f-af92-7dfab27881cd",
   "metadata": {},
   "source": [
    "* `.iter()` creates an iterator that allows to iterate through the input bytes,\n",
    "* `.map(parse_simple_instruction)` applies the function above to each element,\n",
    "* `.collect::<Vec<_>>()` collects the transformed elements into a `Vec`. Note that the element type need not be specified because the compiler can deduce that it is `Option<Instruction>`.\n",
    "\n",
    "We see that parsing the instructions worked. It's just a bit inconvenient that the handling of comments results in each instruction being wrapped in `Some`, and that the `None` values from comments and whitespace are in the result.\n",
    "\n",
    "We could fix this by\n",
    "* filtering out the `None` values -- note that we use a *closure* here to call a [member of `Option`](https://doc.rust-lang.org/std/option/enum.Option.html#method.is_some) rather than defining a separate function like `parse_simple_instruction(...)`,\n",
    "* and then unwrapping the instructions from `Some(...)`. This works similarly to unwrapping valid results from the `Ok` variant of `Result`, which we did in the [previous post in this series](../../../../2024/03/31/brainfuck-interpreter-in-rust-part2):"
   ]
  },
  {
   "cell_type": "code",
   "execution_count": 12,
   "id": "607ff4e5-09c3-4ac6-b513-a06a2349b729",
   "metadata": {},
   "outputs": [
    {
     "data": {
      "text/plain": [
       "[Write, Dec, Read]"
      ]
     },
     "execution_count": 12,
     "metadata": {},
     "output_type": "execute_result"
    }
   ],
   "source": [
    "b\".-, comment\"\n",
    "    .iter()\n",
    "    .map(parse_simple_instruction)\n",
    "    .filter(|opt| opt.is_some())\n",
    "    .map(|opt| opt.unwrap())\n",
    "    .collect::<Vec<_>>()"
   ]
  },
  {
   "cell_type": "markdown",
   "id": "aedac3ab-1ca8-4913-a6cb-9e16fba0b152",
   "metadata": {},
   "source": [
    "This works just fine, but the following solution is a bit more elegant:"
   ]
  },
  {
   "cell_type": "code",
   "execution_count": 13,
   "id": "b9263c0a-2d4a-4594-a762-f869b712ecbb",
   "metadata": {},
   "outputs": [
    {
     "data": {
      "text/plain": [
       "[Write, Dec, Read]"
      ]
     },
     "execution_count": 13,
     "metadata": {},
     "output_type": "execute_result"
    }
   ],
   "source": [
    "b\".-, comment\"\n",
    "    .iter()\n",
    "    .flat_map(parse_simple_instruction)\n",
    "    .collect::<Vec<_>>()"
   ]
  },
  {
   "cell_type": "markdown",
   "id": "8f17884a-0258-49e9-b34e-1103d0664e01",
   "metadata": {},
   "source": [
    "`.flat_map(...)` is equivalent to `.map(...).flatten()`, where [`flatten()`](https://doc.rust-lang.org/std/iter/trait.Iterator.html#method.flatten) flattens a nested structure of iterators.\n",
    "\n",
    "We have such a nested structure here because the item type of the mapped iterator is `Option<Instruction>`, and `Option<T>` implements the iterator trait, so it is itself an iterator:\n",
    "* `None` will not yield any elements,\n",
    "* `Some(x)` will yield the single element `x` when iterated over."
   ]
  },
  {
   "cell_type": "markdown",
   "id": "74f0d276-1ac7-445f-a2e6-f9c686e48ab0",
   "metadata": {},
   "source": [
    "Now we can build a function that can parse any Brainfuck program that has no loops. Note that we do not have to specify that `.collect()` shall collect the resulting iterator into a `Vec` because the compiler deduces this from the return type of the function:"
   ]
  },
  {
   "cell_type": "code",
   "execution_count": 14,
   "id": "561122ef-90b3-4ad9-ac3e-e8a6593c65b7",
   "metadata": {},
   "outputs": [],
   "source": [
    "fn parse_program_without_loops(input: &[u8]) -> Vec<Instruction> {\n",
    "    input.iter()\n",
    "        .flat_map(|c| parse_simple_instruction(c))\n",
    "        .collect()\n",
    "}"
   ]
  },
  {
   "cell_type": "markdown",
   "id": "ff49c381-2100-464a-8928-c124009b2c7c",
   "metadata": {},
   "source": [
    "We will now parse the 12 byte transformation program above and execute it to verify that it works:"
   ]
  },
  {
   "cell_type": "code",
   "execution_count": 16,
   "id": "bc8ef603-38ae-4e0d-bde0-a1b5f7397bd7",
   "metadata": {},
   "outputs": [
    {
     "name": "stdout",
     "output_type": "stream",
     "text": [
      "Output as bytes: [72, 101, 108, 108, 111, 32, 87, 111, 114, 108, 100, 33, 10]\n",
      "Output as str:   Ok(\"Hello World!\\n\")\n"
     ]
    }
   ],
   "source": [
    "let transform_12_input_bytes = parse_program_without_loops(transform_12_input_bytes_source);\n",
    "execute_with_input(&transform_12_input_bytes, b\"Ifmmp!Xpsme\\\"\");"
   ]
  },
  {
   "cell_type": "markdown",
   "id": "06eac4b8-4444-4b4d-89aa-a04465381fa1",
   "metadata": {},
   "source": [
    "## Step 2: parse programs with loops"
   ]
  },
  {
   "cell_type": "markdown",
   "id": "e4483ce3-05a5-4681-9a2d-5d86934c9e49",
   "metadata": {},
   "source": [
    "One interesting aspect of loops is that each instruction that starts a loop, `[`, must have a matching loop end, `]`, and vice versa. Therefore, not every combination of characters forms a valid Brainfuck program, and it would be good if our parser could report some details about the first error in the source code. There are two possible erros:\n",
    "* There could be an unmatched loop end, i.e., a `]` where no loop was currently active. In this case, we will report the index of the unexpected `]` in the sequence of source characters.\n",
    "* There could be an unmatched `[`. This error could be fixed by adding an `]` at the end, so we will just report \"missing loop end at end of input\". We could also try to find out the index of the unmatched `[`, but this would complicate the parsing code. We will see in a future post that this is much easier to do when using the [nom](https://docs.rs/nom/latest/nom/) crate for parsing.\n",
    "\n",
    "We will use an enum to represent the different error conditions:"
   ]
  },
  {
   "cell_type": "code",
   "execution_count": 18,
   "id": "731b1dcf-b63b-4fa3-9690-e0ffd9410a6c",
   "metadata": {},
   "outputs": [],
   "source": [
    "#[derive(Debug)]\n",
    "enum ParseError {\n",
    "    MissingLoopEndAtEndOfInput,\n",
    "    UnexpectedLoopEnd(usize)\n",
    "}"
   ]
  },
  {
   "cell_type": "markdown",
   "id": "95fff9a0-d74d-4e89-b38a-9d3b748035ab",
   "metadata": {},
   "source": [
    "To build a full Brainfuck parser, we will complement the function `parse_simple_instruction` with three more functions:\n",
    "* `parse_next_instruction` parses a single instruction, which can either be a simple instruction, or a loop.\n",
    "* `parse_loop_body` parses the body of a loop, i.e., the code between `[` and `]`.\n",
    "* `parse` parses an entire Brainfuck program."
   ]
  },
  {
   "cell_type": "markdown",
   "id": "e8cdda3c-68a2-4f32-9fe2-0962a31f35d9",
   "metadata": {},
   "source": [
    "These functions all have a similar signature:"
   ]
  },
  {
   "cell_type": "code",
   "execution_count": 19,
   "id": "6d6d8e8f-f8e9-48be-a1ad-d87fdcbf5fd9",
   "metadata": {},
   "outputs": [],
   "source": [
    "fn parse_next_instruction(source: &[u8]) -> Result<(Option<Instruction>, &[u8]), ParseError> {\n",
    "    todo!()\n",
    "}\n",
    "\n",
    "fn parse_loop_body(source: &[u8]) -> Result<(Vec<Instruction>, &[u8]), ParseError> {\n",
    "    todo!()\n",
    "}\n",
    "\n",
    "fn parse(source: &[u8]) -> Result<(Vec<Instruction>), ParseError> {\n",
    "    todo!()\n",
    "}"
   ]
  },
  {
   "cell_type": "markdown",
   "id": "c782457f-748c-492c-9e6a-34a079fb1f6c",
   "metadata": {},
   "source": [
    "* They take a byte slice, `&[u8]`, as the single argument. This is the source code which still needs to be parsed.\n",
    "* They return a `Result`, depending on whether parsing was successful or not.\n",
    "* The `Err` variant contains a `ParseError` which tells what the problem is.\n",
    "* The `Ok` variant contains the instructions which were parsed successfully, i.e.,\n",
    "    * a `Vec<Instruction>` for `parse` and `parse_loop_body`, and\n",
    "    * an `Option<Instruction>` for `parse_next_instruction`, which parses only one instruction.\n",
    "* Moreover, since `parse_next_instruction` and `parse_loop_body` do not parse the entire program, they also have to return the remaining source code which still has to be parsed. Therefore, these functions return a tuple with two elements in the `Ok` variant."
   ]
  },
  {
   "cell_type": "markdown",
   "id": "90c0d699-901b-4963-83a3-6f5ed6fc33bd",
   "metadata": {},
   "source": [
    "Let us start with `parse_next_instruction`. It will be called by the other two functions, but only if there is still something to parse. Moreover, the callers will be responsible for handling loop ends. So we can safely assume that we can extract the first character from the `source` argument, and that it is not `]`. We will just panic if these conditions are not fulfilled:"
   ]
  },
  {
   "cell_type": "code",
   "execution_count": 21,
   "id": "39fc6f18-3433-4b6b-8088-5d18e7ab0c5d",
   "metadata": {},
   "outputs": [],
   "source": [
    "fn parse_next_instruction(source: &[u8]) -> Result<(Option<Instruction>, &[u8]), ParseError> {\n",
    "\n",
    "    // Extract first character\n",
    "    let Some(c) = source.iter().next() else {\n",
    "        panic!(\"parse_next_instruction() should not be called with an empty source.\");\n",
    "    };\n",
    "\n",
    "    // Store everything after this character in remaining_source\n",
    "    let remaining_source = &source[1..];\n",
    "\n",
    "    match c {\n",
    "        b']' => panic!(\"loop end should be handled in the caller\"),\n",
    "\n",
    "        // Loop: wrap the instructions from the loop body in Loop(...) and forward\n",
    "        // the code after the loop end to the caller for further processing\n",
    "        b'[' => parse_loop_body(remaining_source)\n",
    "                .map(|(instructions, source_after_loop)|\n",
    "                     (Some(Loop(instructions)), source_after_loop)),\n",
    "\n",
    "        // Everything else is straightforward to parse :-)\n",
    "        c => Ok((parse_simple_instruction(c), remaining_source))\n",
    "    }\n",
    "}"
   ]
  },
  {
   "cell_type": "markdown",
   "id": "2727e57e-2484-4d1d-8218-1ac9743dda67",
   "metadata": {},
   "source": [
    "As you can see in the match arm that parses a loop, `map(...)` can be applied to the `Result` that is returned by `parse_loop_body`. This means that the mapping is applied only if the `Result` contains an `Ok` value. An `Err` value is left as it is."
   ]
  },
  {
   "cell_type": "code",
   "execution_count": 22,
   "id": "c139930b-705c-487d-b3c1-bb36cbd3b8d3",
   "metadata": {},
   "outputs": [
    {
     "data": {
      "text/plain": [
       "Ok((None, [98, 99]))"
      ]
     },
     "execution_count": 22,
     "metadata": {},
     "output_type": "execute_result"
    }
   ],
   "source": [
    "parse_next_instruction(b\"abc\")"
   ]
  },
  {
   "cell_type": "code",
   "execution_count": 24,
   "id": "fd576197-517f-492e-ae25-b9f25e7ae0f2",
   "metadata": {},
   "outputs": [
    {
     "data": {
      "text/plain": [
       "Ok((Some(Read), Ok(\".+\")))"
      ]
     },
     "execution_count": 24,
     "metadata": {},
     "output_type": "execute_result"
    }
   ],
   "source": [
    "parse_next_instruction(b\",.+\").map(|(i, rest)| (i, std::str::from_utf8(rest)))"
   ]
  },
  {
   "cell_type": "markdown",
   "id": "cc8593cf-bfd8-4c5c-a413-80e149d39aa0",
   "metadata": {},
   "source": [
    "We can now implement the function which parses a loop body. Since it might have to parse more than one instruction, we process the source code in a loop, and store the instructions that were found so far in a mutable `Vec`:"
   ]
  },
  {
   "cell_type": "code",
   "execution_count": 25,
   "id": "53dd1a50-1b18-40c1-92ec-77ade42c1c30",
   "metadata": {},
   "outputs": [],
   "source": [
    "fn parse_loop_body(source: &[u8]) -> Result<(Vec<Instruction>, &[u8]), ParseError> {\n",
    "    let mut result: Vec<Instruction> = Vec::new();\n",
    "    let mut remaining = source;\n",
    "\n",
    "    while remaining.len() > 0 {\n",
    "        if remaining[0] == b']' {\n",
    "            // We have found the loop end. Return the parsed instructions and the code after ']' to the caller.\n",
    "            return Ok((result, &remaining[1..]));\n",
    "        }\n",
    "\n",
    "        // Try to parse the next instruction. Forward any errors to the caller.\n",
    "        let (opt_instruction, source_after_instruction) = parse_next_instruction(remaining)?;\n",
    "\n",
    "        if let Some(instruction) = opt_instruction {\n",
    "            // The character was a valid instruction, and not a comment.\n",
    "            result.push(instruction);\n",
    "        }\n",
    "\n",
    "        remaining = source_after_instruction;\n",
    "    }\n",
    "\n",
    "    // The expected loop end was not found :-(\n",
    "    Err(ParseError::MissingLoopEndAtEndOfInput)\n",
    "}"
   ]
  },
  {
   "cell_type": "markdown",
   "id": "cc082dbb-1640-49bd-a1aa-37f25ed1dd9a",
   "metadata": {},
   "source": [
    "In two places, pattern matching has been avoided in favor of more concise ways to deal with enums:\n",
    "*   In the line\n",
    "\n",
    "    ```rust\n",
    "    let (opt_instruction, source_after_instruction) = parse_next_instruction(remaining)?;\n",
    "    ```\n",
    "    the call to `parse_next_instruction` returns a `Result`.\n",
    "    The question mark tells that any error shall be returned to the caller immediately.\n",
    "    Therefore, only `Ok` values are processed further, and are unwrapped implicitly.\n",
    "    The contained tuple can be destructured with `let`.\n",
    "*   `opt_instruction`, which is an `Option<Instruction>`, is handled in the statement\n",
    "\n",
    "    ```rust\n",
    "    if let Some(instruction) = opt_instruction { /* ... */ }\n",
    "    ```\n",
    "    This will execute the code in the following block only if `opt_instruction` is not `None`, and set `instruction` to the contents of the `Some` value.\n",
    "\n",
    "Both constructs could be replaced with pattern matching, but this would require more code."
   ]
  },
  {
   "cell_type": "code",
   "execution_count": 35,
   "id": "4f6f300e-799c-4e6f-810c-a128e00207de",
   "metadata": {},
   "outputs": [
    {
     "data": {
      "text/plain": [
       "Err(MissingLoopEndAtEndOfInput)"
      ]
     },
     "execution_count": 35,
     "metadata": {},
     "output_type": "execute_result"
    }
   ],
   "source": [
    "parse_next_instruction(b\"[\")"
   ]
  },
  {
   "cell_type": "code",
   "execution_count": 37,
   "id": "50b1a6d6-1a72-4ade-844c-5ef6ef802937",
   "metadata": {},
   "outputs": [
    {
     "data": {
      "text/plain": [
       "Ok((Some(Loop([Inc, Inc, Inc, Loop([Right, Inc, Left, Dec])])), []))"
      ]
     },
     "execution_count": 37,
     "metadata": {},
     "output_type": "execute_result"
    }
   ],
   "source": [
    "parse_next_instruction(b\"[+++[>+<-]]\")"
   ]
  },
  {
   "cell_type": "code",
   "execution_count": 38,
   "id": "1c5dce62-f8d4-45e5-b927-7e76381d562a",
   "metadata": {},
   "outputs": [
    {
     "data": {
      "text/plain": [
       "Ok((Some(Loop([Dec])), [43, 43, 46]))"
      ]
     },
     "execution_count": 38,
     "metadata": {},
     "output_type": "execute_result"
    }
   ],
   "source": [
    "parse_next_instruction(b\"[-]++.\")"
   ]
  },
  {
   "cell_type": "code",
   "execution_count": 26,
   "id": "c26ec09d-b58d-41aa-a8bf-a0ac87fc97bb",
   "metadata": {},
   "outputs": [
    {
     "data": {
      "text/plain": [
       "Err(MissingLoopEndAtEndOfInput)"
      ]
     },
     "execution_count": 26,
     "metadata": {},
     "output_type": "execute_result"
    }
   ],
   "source": [
    "parse_loop_body(b\"\").map(|(is, rest)| (is, std::str::from_utf8(/* */ rest)))"
   ]
  },
  {
   "cell_type": "code",
   "execution_count": 52,
   "id": "4137d500-057c-4dd3-b240-82071864de90",
   "metadata": {},
   "outputs": [
    {
     "data": {
      "text/plain": [
       "Ok(([Inc, Right, Write], Ok(\"foo\")))"
      ]
     },
     "execution_count": 52,
     "metadata": {},
     "output_type": "execute_result"
    }
   ],
   "source": [
    "parse_loop_body(b\"+>.abc]foo\").map(|(is, rest)| (is, std::str::from_utf8(rest)))"
   ]
  },
  {
   "cell_type": "code",
   "execution_count": 54,
   "id": "3f38d557-b435-4c97-8a89-5ce5069c10f7",
   "metadata": {},
   "outputs": [
    {
     "data": {
      "text/plain": [
       "Ok(([Inc, Loop([Left, Dec]), Write], Ok(\"+\")))"
      ]
     },
     "execution_count": 54,
     "metadata": {},
     "output_type": "execute_result"
    }
   ],
   "source": [
    "parse_loop_body(b\"+[<-].]+\").map(|(is, rest)| (is, std::str::from_utf8(rest)))"
   ]
  },
  {
   "cell_type": "code",
   "execution_count": 57,
   "id": "c8e26cc5-4675-41a3-90e1-7cd73853ae26",
   "metadata": {},
   "outputs": [],
   "source": [
    "fn parse(source: &[u8]) -> Result<(Vec<Instruction>), ParseError> {\n",
    "    let mut result: Vec<Instruction> = Vec::new();\n",
    "    let mut remaining = source;\n",
    "\n",
    "    while remaining.len() > 0 {\n",
    "        if remaining[0] == b']' {\n",
    "            // Loop ends are only expected in parse_loop_body :-(\n",
    "            return Err(ParseError::UnexpectedLoopEnd(source.len() - remaining.len()));\n",
    "        }\n",
    "\n",
    "        // Try to parse the next instruction. Forward any errors to the caller.\n",
    "        let (opt_instruction, source_after_instruction) = parse_next_instruction(remaining)?;\n",
    "\n",
    "        if let Some(instruction) = opt_instruction {\n",
    "            // The character was a valid instruction, and not a comment.\n",
    "            result.push(instruction);\n",
    "        }\n",
    "\n",
    "        remaining = source_after_instruction;\n",
    "    }\n",
    "\n",
    "    Ok(result)\n",
    "}"
   ]
  },
  {
   "cell_type": "code",
   "execution_count": 59,
   "id": "8b953fde-0eb8-4ace-8ca6-0e8070a2ffe1",
   "metadata": {},
   "outputs": [
    {
     "data": {
      "text/plain": [
       "Ok([Read, Write])"
      ]
     },
     "execution_count": 59,
     "metadata": {},
     "output_type": "execute_result"
    }
   ],
   "source": [
    "parse(b\",.\")"
   ]
  },
  {
   "cell_type": "code",
   "execution_count": 60,
   "id": "f9012b40-2642-4088-97a1-2fa1bc7c1039",
   "metadata": {},
   "outputs": [
    {
     "data": {
      "text/plain": [
       "Err(UnexpectedLoopEnd(0))"
      ]
     },
     "execution_count": 60,
     "metadata": {},
     "output_type": "execute_result"
    }
   ],
   "source": [
    "parse(b\"]\")"
   ]
  },
  {
   "cell_type": "code",
   "execution_count": 62,
   "id": "a447cf36-1bb2-41a7-8252-6712e3d9f90e",
   "metadata": {},
   "outputs": [
    {
     "data": {
      "text/plain": [
       "Err(UnexpectedLoopEnd(6))"
      ]
     },
     "execution_count": 62,
     "metadata": {},
     "output_type": "execute_result"
    }
   ],
   "source": [
    "parse(b\"[[[]]]]\")"
   ]
  },
  {
   "cell_type": "code",
   "execution_count": 63,
   "id": "f1dbdbc2-7558-4c73-a11e-90906ea82bc0",
   "metadata": {},
   "outputs": [
    {
     "data": {
      "text/plain": [
       "Err(MissingLoopEndAtEndOfInput)"
      ]
     },
     "execution_count": 63,
     "metadata": {},
     "output_type": "execute_result"
    }
   ],
   "source": [
    "parse(b\"[\")"
   ]
  },
  {
   "cell_type": "code",
   "execution_count": 76,
   "id": "67dd35ea-adb9-4c07-ad80-31e880248dd2",
   "metadata": {},
   "outputs": [],
   "source": [
    "let fib = parse(b\"\n",
    ",>>+<<\n",
    "[->\n",
    "  [->>+<<]\n",
    "  >\n",
    "  [-<+>>+<]\n",
    "  >\n",
    "  [-<+>]\n",
    "  <<.<\n",
    "]\").unwrap();"
   ]
  },
  {
   "cell_type": "code",
   "execution_count": 82,
   "id": "3f6d640a-5de7-4576-a572-3935bcf563f0",
   "metadata": {},
   "outputs": [
    {
     "data": {
      "text/plain": [
       "[1, 1, 2, 3, 5, 8, 13, 21, 34, 55, 89, 144]"
      ]
     },
     "execution_count": 82,
     "metadata": {},
     "output_type": "execute_result"
    }
   ],
   "source": [
    "let mut output = Vec::new();\n",
    "{\n",
    "    let input = [12u8];\n",
    "    let mut input_slice: &[u8] = &input[..];\n",
    "    execute(&fib, &mut input_slice, &mut output);\n",
    "}\n",
    "output"
   ]
  },
  {
   "cell_type": "code",
   "execution_count": 12,
   "id": "25cab846-57a1-427c-bfe1-4a20aa0c7738",
   "metadata": {},
   "outputs": [
    {
     "ename": "Error",
     "evalue": "cannot find function `parse_loop` in this scope",
     "output_type": "error",
     "traceback": [
      "\u001b[31m[E0425] Error:\u001b[0m cannot find function `parse_loop` in this scope",
      "   \u001b[38;5;246m╭\u001b[0m\u001b[38;5;246m─\u001b[0m\u001b[38;5;246m[\u001b[0mcommand_12:1:1\u001b[38;5;246m]\u001b[0m",
      "   \u001b[38;5;246m│\u001b[0m",
      " \u001b[38;5;246m4 │\u001b[0m \u001b[38;5;249m \u001b[0m\u001b[38;5;249m \u001b[0m\u001b[38;5;249m \u001b[0m\u001b[38;5;249m \u001b[0m\u001b[38;5;249m \u001b[0m\u001b[38;5;249m \u001b[0m\u001b[38;5;249m \u001b[0m\u001b[38;5;249m \u001b[0m\u001b[38;5;249mb\u001b[0m\u001b[38;5;249m'\u001b[0m\u001b[38;5;249m[\u001b[0m\u001b[38;5;249m'\u001b[0m\u001b[38;5;249m \u001b[0m\u001b[38;5;249m=\u001b[0m\u001b[38;5;249m>\u001b[0m\u001b[38;5;249m \u001b[0m\u001b[38;5;54mp\u001b[0m\u001b[38;5;54ma\u001b[0m\u001b[38;5;54mr\u001b[0m\u001b[38;5;54ms\u001b[0m\u001b[38;5;54me\u001b[0m\u001b[38;5;54m_\u001b[0m\u001b[38;5;54ml\u001b[0m\u001b[38;5;54mo\u001b[0m\u001b[38;5;54mo\u001b[0m\u001b[38;5;54mp\u001b[0m\u001b[38;5;249m(\u001b[0m\u001b[38;5;249m&\u001b[0m\u001b[38;5;249ms\u001b[0m\u001b[38;5;249mo\u001b[0m\u001b[38;5;249mu\u001b[0m\u001b[38;5;249mr\u001b[0m\u001b[38;5;249mc\u001b[0m\u001b[38;5;249me\u001b[0m\u001b[38;5;249m[\u001b[0m\u001b[38;5;249m1\u001b[0m\u001b[38;5;249m.\u001b[0m\u001b[38;5;249m.\u001b[0m\u001b[38;5;249m]\u001b[0m\u001b[38;5;249m)\u001b[0m\u001b[38;5;249m,\u001b[0m",
      " \u001b[38;5;240m  │\u001b[0m                 \u001b[38;5;54m─\u001b[0m\u001b[38;5;54m─\u001b[0m\u001b[38;5;54m─\u001b[0m\u001b[38;5;54m─\u001b[0m\u001b[38;5;54m─\u001b[0m\u001b[38;5;54m┬\u001b[0m\u001b[38;5;54m─\u001b[0m\u001b[38;5;54m─\u001b[0m\u001b[38;5;54m─\u001b[0m\u001b[38;5;54m─\u001b[0m  ",
      " \u001b[38;5;240m  │\u001b[0m                      \u001b[38;5;54m╰\u001b[0m\u001b[38;5;54m─\u001b[0m\u001b[38;5;54m─\u001b[0m\u001b[38;5;54m─\u001b[0m\u001b[38;5;54m─\u001b[0m\u001b[38;5;54m─\u001b[0m\u001b[38;5;54m─\u001b[0m not found in this scope",
      "\u001b[38;5;246m───╯\u001b[0m"
     ]
    }
   ],
   "source": [
    "fn parse_next_instruction(source: &[u8]) -> Result<(Option<Instruction>, &[u8]), ParseError> {\n",
    "    match source[0] {\n",
    "        b']' => panic!(\"should not happen\"),\n",
    "        b'[' => parse_loop(&source[1..]),\n",
    "        c => Ok((parse_simple_instruction(c), &source[1..]))\n",
    "    }\n",
    "}"
   ]
  },
  {
   "cell_type": "code",
   "execution_count": 9,
   "id": "87aa1e85-9ef8-4bb6-a67d-22bea6e29098",
   "metadata": {},
   "outputs": [],
   "source": [
    "let x = parse_next_instruction(b\",.<\");"
   ]
  },
  {
   "cell_type": "code",
   "execution_count": null,
   "id": "1757e37c-466f-4bfb-8008-b1a4acc70229",
   "metadata": {},
   "outputs": [],
   "source": []
  },
  {
   "cell_type": "code",
   "execution_count": null,
   "id": "d76376cc-1b5d-49b1-8b69-f258ef4adea7",
   "metadata": {},
   "outputs": [],
   "source": []
  },
  {
   "cell_type": "code",
   "execution_count": 57,
   "id": "4ef7e12d-ba67-4fe1-8d4a-3cc98e422a82",
   "metadata": {},
   "outputs": [
    {
     "name": "stdout",
     "output_type": "stream",
     "text": [
      "[13, 72, 101, 108, 108, 111, 32, 87, 111, 114, 108, 100, 33, 10]\n"
     ]
    }
   ],
   "source": [
    "let b: &[u8] = b\"Hello world!\";\n",
    "let c: &[u8; 12] = b\"Hello world!\";\n",
    "let d: &[u8] = c;\n",
    "let message = b\"\\x0dHello World!\\n\";\n",
    "println!(\"{:?}\", message);"
   ]
  },
  {
   "cell_type": "code",
   "execution_count": 58,
   "id": "bc361103-0ff1-4ea1-bfad-6dac87da186f",
   "metadata": {},
   "outputs": [],
   "source": [
    "let print_counted = vec![Read, Loop(vec![Dec, Right, Read, Write, Left])];"
   ]
  },
  {
   "cell_type": "code",
   "execution_count": 59,
   "id": "dc8b67d8-3c33-4ccd-b11b-43b096c1913d",
   "metadata": {},
   "outputs": [
    {
     "name": "stdout",
     "output_type": "stream",
     "text": [
      "Hello World!\n"
     ]
    }
   ],
   "source": [
    "let mut m: &[u8] = message;\n",
    "execute(&print_counted, &mut m, &mut std::io::stdout());"
   ]
  },
  {
   "cell_type": "code",
   "execution_count": 71,
   "id": "da4602db-6163-430d-8424-03e50f8146e5",
   "metadata": {},
   "outputs": [
    {
     "name": "stdout",
     "output_type": "stream",
     "text": [
      "Hello World!\n"
     ]
    }
   ],
   "source": [
    "let print_counted_decrease = vec![Read, Loop(vec![Dec, Right, Read, Dec, Write, Left]), Inc, Inc, Inc, Inc, Inc, Inc, Inc, Inc, Inc, Inc, Write];\n",
    "let encrypted_message = b\"\\x0cIfmmp!Xpsme\\\"\";\n",
    "let mut m: &[u8] = encrypted_message;\n",
    "execute(&print_counted_decrease, &mut m, &mut std::io::stdout());"
   ]
  },
  {
   "cell_type": "code",
   "execution_count": 64,
   "id": "ebfffa72-04ce-48c2-8a6c-dd4601bb0bad",
   "metadata": {},
   "outputs": [
    {
     "name": "stdout",
     "output_type": "stream",
     "text": [
      "Iello World\n"
     ]
    }
   ],
   "source": [
    "println!(\"\");"
   ]
  },
  {
   "cell_type": "code",
   "execution_count": 67,
   "id": "00ac6344-5d66-4ba6-b1ff-0f65c7ca584e",
   "metadata": {},
   "outputs": [
    {
     "name": "stdout",
     "output_type": "stream",
     "text": [
      "10 9\n"
     ]
    }
   ],
   "source": [
    "let n = b'\\n';\n",
    "let t = b'\\t';\n",
    "println!(\"{:?} {:?}\", n, t);"
   ]
  },
  {
   "cell_type": "code",
   "execution_count": 69,
   "id": "7cb67921-bd24-4ca9-93b8-5b77b0973dd4",
   "metadata": {},
   "outputs": [
    {
     "name": "stdout",
     "output_type": "stream",
     "text": [
      "[9]\n"
     ]
    }
   ],
   "source": [
    "let x: [u8; 1] = [9];\n",
    "println!(\"{:?}\", x);"
   ]
  },
  {
   "cell_type": "code",
   "execution_count": 3,
   "id": "f1e9d049-d4c4-4cb5-b7e2-8353f44c7dc9",
   "metadata": {},
   "outputs": [],
   "source": [
    "// 1. Read a byte value \u0000from \u0000standard input.\n",
    "// 2. Wr\u0000ite\u0000 all numbers from this value down to zero to standard output.\n",
    "let program_countdown = vec![\n",
    "    Read,\n",
    "    Loop(vec![\n",
    "        Inc, Inc, Inc, Inc, Inc, Inc, Inc, Inc, Inc, Inc, Inc, Inc, Inc, Inc, Inc, Inc, \n",
    "        Inc, Inc, Inc, Inc, Inc, Inc, Inc, Inc, Inc, Inc, Inc, Inc, Inc, Inc, Inc, Inc, \n",
    "        Inc, Inc, Inc, Inc, Inc, Inc, Inc, Inc, Inc, Inc, Inc, Inc, Inc, Inc, Inc, Inc, \n",
    "        Write,\n",
    "        Dec, Dec, Dec, Dec, Dec, Dec, Dec, Dec, Dec, Dec, Dec, Dec, Dec, Dec, Dec, Dec, \n",
    "        Dec, Dec, Dec, Dec, Dec, Dec, Dec, Dec, Dec, Dec, Dec, Dec, Dec, Dec, Dec, Dec, \n",
    "        Dec, Dec, Dec, Dec, Dec, Dec, Dec, Dec, Dec, Dec, Dec, Dec, Dec, Dec, Dec, Dec,\n",
    "        Dec]),\n",
    "    Inc, Inc, Inc, Inc, Inc, Inc, Inc, Inc, Inc, Inc, Inc, Inc, Inc, Inc, Inc, Inc, \n",
    "    Inc, Inc, Inc, Inc, Inc, Inc, Inc, Inc, Inc, Inc, Inc, Inc, Inc, Inc, Inc, Inc, \n",
    "    Inc, Inc, Inc, Inc, Inc, Inc, Inc, Inc, Inc, Inc, Inc, Inc, Inc, Inc, Inc, Inc, \n",
    "    Write,\n",
    "    Dec, Dec, Dec, Dec, Dec, Dec, Dec, Dec, Dec, Dec, Dec, Dec, Dec, Dec, Dec, Dec, \n",
    "    Dec, Dec, Dec, Dec, Dec, Dec, Dec, Dec, Dec, Dec, Dec, Dec, Dec, Dec, Dec, Dec, \n",
    "    Dec, Dec, Dec, Dec, Dec, Dec, Dec, Dec, Dec, Dec, Dec, Dec, Dec, Dec, Dec, Dec\n",
    "];"
   ]
  },
  {
   "cell_type": "markdown",
   "id": "1118e329-ed6f-44b5-9f5a-14d805d6c0e0",
   "metadata": {},
   "source": [
    "Given a byte with the value 10 as input, the program produces this output:[<sup id=\"fnref:variable-scope\">6</sup>](#fn:variable-scope)"
   ]
  },
  {
   "cell_type": "code",
   "execution_count": 16,
   "id": "97239b3a-7691-4db0-8786-2234260cf774",
   "metadata": {},
   "outputs": [
    {
     "name": "stdout",
     "output_type": "stream",
     "text": [
      "remaining input: []\n",
      "output: [58, 57, 56, 55, 54, 53, 52, 51, 50, 49, 48]\n"
     ]
    }
   ],
   "source": [
    "{\n",
    "    let ten = vec![10];\n",
    "    let mut input: &[u8] = &ten;\n",
    "    let mut output = Vec::new();\n",
    "    \n",
    "    execute(&program_countdown, &mut input, &mut output);\n",
    "\n",
    "    println!(\"remaining input: {:?}\", input);\n",
    "    println!(\"output: {:?}\", output);\n",
    "\n",
    "};"
   ]
  },
  {
   "cell_type": "code",
   "execution_count": 4,
   "id": "7262eb64-8aa5-4274-b4a8-4370bf5c2f63",
   "metadata": {},
   "outputs": [
    {
     "data": {
      "text/plain": [
       "Tape { data: [5, 0, 42], pos: 0 }"
      ]
     },
     "execution_count": 4,
     "metadata": {},
     "output_type": "execute_result"
    }
   ],
   "source": [
    "let mut t = Tape::new();\n",
    "t.right();\n",
    "t.set(42);\n",
    "t.left();\n",
    "t.left();\n",
    "t.set(t.get() + 5);\n",
    "t"
   ]
  },
  {
   "cell_type": "markdown",
   "id": "a6193df1-a38a-4161-bdbf-f4f06032f4c4",
   "metadata": {},
   "source": [
    "Even though we cannot write Brainfuck programs in the usual way, we can construct the abstract syntax tree using the variants of the `Instruction` type directly:"
   ]
  },
  {
   "cell_type": "code",
   "execution_count": 5,
   "id": "74836404-3882-466c-be24-fbd89f5921e1",
   "metadata": {},
   "outputs": [],
   "source": [
    "// 1. Read a byte value \u0000from \u0000standard input.\n",
    "// 2. Wr\u0000ite\u0000 all numbers from this value down to zero to standard output.\n",
    "let program_countdown = vec![\n",
    "    Read,\n",
    "    Loop(vec![Write, Dec]),\n",
    "    Write\n",
    "];"
   ]
  },
  {
   "cell_type": "markdown",
   "id": "d06d3845-d65b-457d-a211-4c418ac5a7c0",
   "metadata": {},
   "source": [
    " But how can we execute the program?"
   ]
  },
  {
   "cell_type": "markdown",
   "id": "837f415c-4fa8-44ea-8621-7cab8c7f3cc6",
   "metadata": {},
   "source": [
    "## Step 1: programs that do not need I/O\n",
    "\n",
    "We'll start simple and look at programs which do not use the `Read` and `Write` instructions. Since such a program does not create any output, we can only observe the modifications to the tape.\n",
    "\n",
    "This is a program that will aggregate the values of neighbouring non-zero cells to one of these cells, and then terminate:[<sup id=\"fnref:initial-state-all-zeroes\">2</sup>](#fn:initial-state-all-zeroes)"
   ]
  },
  {
   "cell_type": "code",
   "execution_count": 6,
   "id": "60cd252d-1654-4a06-bf05-0cd77bc2e399",
   "metadata": {},
   "outputs": [],
   "source": [
    "let program_add = [\n",
    "    // Go right until the current cell is zero.\n",
    "    Loop(vec![Right]),  \n",
    "\n",
    "    // Go to the second non-zero cell from the right.\n",
    "    Left,\n",
    "    Left,\n",
    "\n",
    "    // As long as the current cell is non-zero:\n",
    "    // * add the value of the right neighbour cell\n",
    "    // * move the data pointer one cell to the left\n",
    "    Loop(vec![\n",
    "        Right,\n",
    "        Loop(vec![Dec, Left, Inc, Right]),\n",
    "        Left,\n",
    "        Left\n",
    "    ])\n",
    "];"
   ]
  },
  {
   "cell_type": "markdown",
   "id": "cb49d858-97aa-46e1-94e8-97b691ed515c",
   "metadata": {},
   "source": [
    "So if the initial state of the tape is such that it contains the values 3, 4, and 8 surrounded by zeroes,\n",
    "\n",
    "<table>\n",
    "<tbody>\n",
    "  <tr>\n",
    "    <td style=\"border-color:black;border-style:solid;border-width:1px\">...</td>\n",
    "    <td style=\"border-color:black;border-style:solid;border-width:1px\">0</td>\n",
    "    <td style=\"border-color:black;border-style:solid;border-width:1px\">3</td>\n",
    "    <td style=\"border-color:black;border-style:solid;border-width:1px\">4</td>\n",
    "    <td style=\"border-color:black;border-style:solid;border-width:1px\">8</td>\n",
    "    <td style=\"border-color:black;border-style:solid;border-width:1px\">0</td>\n",
    "    <td style=\"border-color:black;border-style:solid;border-width:1px\">...</td>\n",
    "  </tr>\n",
    "</tbody>\n",
    "</table>\n",
    "\n",
    "then we would expect that after runing the program, there is only one non-zero cell remaining, which contains the sum of the values:\n",
    "\n",
    "<table>\n",
    "<tbody>\n",
    "  <tr>\n",
    "    <td style=\"border-color:black;border-style:solid;border-width:1px\">...</td>\n",
    "    <td style=\"border-color:black;border-style:solid;border-width:1px\">0</td>\n",
    "    <td style=\"border-color:black;border-style:solid;border-width:1px\">15</td>\n",
    "    <td style=\"border-color:black;border-style:solid;border-width:1px\">0</td>\n",
    "    <td style=\"border-color:black;border-style:solid;border-width:1px\">0</td>\n",
    "    <td style=\"border-color:black;border-style:solid;border-width:1px\">0</td>\n",
    "    <td style=\"border-color:black;border-style:solid;border-width:1px\">...</td>\n",
    "  </tr>\n",
    "</tbody>\n",
    "</table>\n",
    "\n",
    "How can we achieve this?"
   ]
  },
  {
   "cell_type": "markdown",
   "id": "79705f35-0002-47e0-a010-137acee54ea4",
   "metadata": {},
   "source": [
    "We will first implement the skeleton of the execution function, which takes two parameters for the time being:\n",
    "*   `tape` is a mutable reference to the tape (`&mut Tape`). It needs to be mutable because the tape contents will be modified during the execution.\n",
    "*   `instructions` is a *slice* of instructions (`&[Instruction]`). Essentially, a slice combines a pointer to the start of a range of items, and the length of the range.\n",
    "    Using a slice, rather than a `Vec`, is more flexible because this allows to call the function not only with a `Vec`, but also with fixed-size arrays and parts of a `Vec` or an array.\n",
    "    Note that the Rust compiler will convert a reference to a `Vec` automatically to a slice when calling the function.[<sup id=\"fnref:deref-coercion\">3</sup>](#fn:deref-coercion)\n",
    "\n",
    "The function will then loop over `instructions`.\n",
    "\n",
    "Let's have a look at what we have so far and just print each instruction before we will see how to evaluate them:"
   ]
  },
  {
   "cell_type": "code",
   "execution_count": 7,
   "id": "83bac603-72d2-426f-ab97-41b2d685356a",
   "metadata": {},
   "outputs": [
    {
     "name": "stdout",
     "output_type": "stream",
     "text": [
      "execute instruction: Loop([Right])\n",
      "execute instruction: Left\n",
      "execute instruction: Left\n",
      "execute instruction: Loop([Right, Loop([Dec, Left, Inc, Right]), Left, Left])\n"
     ]
    }
   ],
   "source": [
    "fn execute_v1(tape: &mut Tape, instructions: &[Instruction]) {\n",
    "    for instruction in instructions {\n",
    "        println!(\"execute instruction: {:?}\", instruction);\n",
    "    }\n",
    "}\n",
    "\n",
    "let mut t = Tape::new();\n",
    "execute_v1(&mut t, &program_add);"
   ]
  },
  {
   "cell_type": "markdown",
   "id": "3e17d696-348a-4770-b0ea-781493bf1b4e",
   "metadata": {},
   "source": [
    "Now we want to do something useful with our instructions.\n",
    "\n",
    "Enum values, such as our instructions of type `Instruction`, are usually evaluated using pattern matching in Rust. A match expression looks like this:"
   ]
  },
  {
   "cell_type": "code",
   "execution_count": 8,
   "id": "36591593-7c5c-4b5d-beba-5427d328a14d",
   "metadata": {},
   "outputs": [
    {
     "name": "stdout",
     "output_type": "stream",
     "text": [
      "instruction: left \n",
      "instruction: right \n",
      "instruction: + \n",
      "instruction: - \n",
      "instruction: loop \n",
      "instruction: ? \n",
      "instruction: ? \n"
     ]
    }
   ],
   "source": [
    "for instruction in [Left, Right, Inc, Dec, Loop(vec![Dec, Right]), Read, Write] {\n",
    "    let result = match instruction {\n",
    "        Left => \"left\",\n",
    "        Right => \"right\",\n",
    "        Inc => \"+\",\n",
    "        Dec => \"-\",\n",
    "        Loop(body) => \"loop\",\n",
    "        _ => \"?\"\n",
    "    };\n",
    "    println!(\"instruction: {} \", result);\n",
    "};"
   ]
  },
  {
   "cell_type": "markdown",
   "id": "f03c043a-fd02-47ff-9763-4091bdfec12e",
   "metadata": {},
   "source": [
    "It contains match arms, which consist of a pattern, and some code that is evaluated if the pattern matches the value. In this simple example, the code is just a string constant for each case."
   ]
  },
  {
   "cell_type": "markdown",
   "id": "7c4b7ac9-c7eb-4a2c-8d78-42e8c64a459a",
   "metadata": {},
   "source": [
    "Now we can think about what code to execute for each instruction:\n",
    "*   `Left` and `Right` are easy: for these, we just have to call `tape.left()` and `tape.right()`, respectively.\n",
    "*   For `Inc`, we have to increase the value of the current cell: `tape.set(tape.get() + 1)`\n",
    "*   Analogously for `Dec`: `tape.set(tape.get() - 1)`\n",
    "\n",
    "When we encounter a `Loop` instruction, we have to check if the current cell is zero. If that is not the case, we repeatedly execute all instructions in the loop body until the current cell becomes zero:\n",
    "\n",
    "```rust\n",
    "while tape.get() != 0 {\n",
    "    execute(&mut tape, body)\n",
    "}\n",
    "```\n",
    "\n",
    "If we put everything together, we end up with this function that can execute any Brainfuck program without `Read` and `Write` instructions:"
   ]
  },
  {
   "cell_type": "code",
   "execution_count": 9,
   "id": "0f536ac1-125a-4eba-b0f3-00b6950408ac",
   "metadata": {},
   "outputs": [],
   "source": [
    "fn execute_v2(tape: &mut Tape, instructions: &[Instruction]) {\n",
    "    for instruction in instructions {\n",
    "        match instruction {\n",
    "            Left => tape.left(),\n",
    "            Right => tape.right(),\n",
    "            Inc => tape.set(tape.get() + 1),\n",
    "            Dec => tape.set(tape.get() - 1),\n",
    "            Loop(body) => {\n",
    "                while tape.get() != 0 {\n",
    "                    execute_v2(tape, body)\n",
    "                }\n",
    "            }\n",
    "            _ => panic!(\"Read and Write are not handled yet!\")\n",
    "        }\n",
    "    }\n",
    "}"
   ]
  },
  {
   "cell_type": "markdown",
   "id": "d78466d6-ea9b-432d-9c30-14222701f5c4",
   "metadata": {},
   "source": [
    "Note that we must handle all cases in the match expression, or the code will not compile. Here we use the `panic!` macro, which usually aborts the process with the given error message, if the `Read` or `Write` instructions are used.\n",
    "\n",
    "We can now try to execute our program that sums the numbers on the tape:"
   ]
  },
  {
   "cell_type": "code",
   "execution_count": 10,
   "id": "1cd0098e-1e2f-4c03-9d14-43636a6b3095",
   "metadata": {},
   "outputs": [
    {
     "name": "stdout",
     "output_type": "stream",
     "text": [
      "Initial state: Tape { data: [3, 4, 8], pos: 0 }\n",
      "Final state:   Tape { data: [0, 15, 0, 0, 0], pos: 0 }\n"
     ]
    }
   ],
   "source": [
    "let mut t = Tape::new();\n",
    "t.set(3);\n",
    "t.right();\n",
    "t.set(4);\n",
    "t.right();\n",
    "t.set(8);\n",
    "t.left();\n",
    "t.left();\n",
    "\n",
    "println!(\"Initial state: {:?}\", t);\n",
    "\n",
    "execute_v2(&mut t, &program_add);\n",
    "\n",
    "println!(\"Final state:   {:?}\", t);"
   ]
  },
  {
   "cell_type": "markdown",
   "id": "36830b20-a63e-48bd-a936-8bdc61320e21",
   "metadata": {},
   "source": [
    "It works!\n",
    "\n",
    "Note that every cell which has once been the current cell has got the value zero. This is not significant though because every cell which has not been visited yet has the value zero implicitly."
   ]
  },
  {
   "cell_type": "markdown",
   "id": "114ad484-d628-4d42-8df9-00c00a16b90b",
   "metadata": {},
   "source": [
    "## Step 2: input and output\n",
    "\n",
    "So far, we have ignored the instructions `Read` and `Write` (denoted by ',' and '.' in Brainfuck source code).\n",
    "\n",
    "We can implement match arms for them in the execution function as follows.\n",
    "\n",
    "For `Read`, we could access standard input with the function [`std::io::stdin()`](https://doc.rust-lang.org/std/io/fn.stdin.html) , and read a byte from it with [`read_exact(...)`](https://doc.rust-lang.org/std/io/struct.Stdin.html#method.read_exact). The following function shows how it works:"
   ]
  },
  {
   "cell_type": "code",
   "execution_count": 11,
   "id": "87e9c7ac-4a96-44bb-b7c1-8b9f72ed3759",
   "metadata": {},
   "outputs": [],
   "source": [
    "use std::io::Read;  // needed to bring read_exact(...) into scope\n",
    "\n",
    "fn read() -> u8 {\n",
    "    let mut buf: [u8; 1] = [0];\n",
    "    std::io::stdin().read_exact(&mut buf).unwrap();\n",
    "    buf[0]\n",
    "}"
   ]
  },
  {
   "cell_type": "markdown",
   "id": "4c0f7a21-4909-4b9e-ac4a-58de7adcf964",
   "metadata": {},
   "source": [
    "`read_exact(...)` tries to fill the given `u8` slice with bytes from standard input. The reason why we call `unwrap()` on its return value is the following:\n",
    "\n",
    "In Rust, functions that can fail usually return a value of the type `Result<T, E>`, where `T` is the type that a successful execution of the function would yield, and `E` is an error type. For `read_exact(...)`, which returns no useful information in the successful case, `T` is `()`, the empty type.\n",
    "`Result` is an enum with two variants:\n",
    "*   A value of type `Ok(T)` is returned if the function execution was successful.\n",
    "*   An `Err(E)` signals that an error occurred.\n",
    "\n",
    "Therefore, it is impossible to forget error handling if the return value is used.\n",
    "There are several ways to work with results and errors. Here we choose to call `.unwrap()` on the result, which unwraps the value from `Ok`, and panics if the result is actually an `Err`.\n",
    "Using `unwrap` is useful in two situations:\n",
    "*   If we are 100% sure that there cannot be an `Err` value in the result because we know that some preconditions are fulfilled which guarantee success.\n",
    "*   If a panic is acceptable, e.g., because we are just experimenting, and not writing production code.\n",
    "\n",
    "Note that since we do not need the empty result value of `read_exact(...)` at all in this particular case, we could in principle forget to handle errors. \n",
    "The code would compile just fine without calling `.unwrap()`, but the compiler would warn about the lack of error handling (at least outside Jupyter notebooks).\n",
    "\n",
    "In a future post, we will discuss how to handle all errors properly in our Brainfuck interpreter.\n",
    "\n",
    "Similarly, we can use [`std::io::stdout()`](https://doc.rust-lang.org/std/io/fn.stdout.html) to access standard output for the `Write` instruction, and write a byte to it with [`write_all(...)`](https://doc.rust-lang.org/std/io/struct.Stdout.html#method.write_all-1):"
   ]
  },
  {
   "cell_type": "code",
   "execution_count": 12,
   "id": "e94aeefc-ef28-4591-bb85-cd3194fa41b9",
   "metadata": {},
   "outputs": [],
   "source": [
    "use std::io::Write;  // needed to bring `write(...)` into scope\n",
    "\n",
    "fn write(value: u8) {\n",
    "    std::io::stdout().write(&[value]).unwrap();\n",
    "}"
   ]
  },
  {
   "cell_type": "markdown",
   "id": "e3e13d9d-bb5a-4184-9784-a0e49c28d66d",
   "metadata": {},
   "source": [
    "Similar to what we saw for reading, `write(...)` will attempt to write bytes from a `u8` slice to standard output, and return `Ok(n)` if `n` bytes were written successfully. Again, we simply unwrap the result value and postpone proper error handling to a future blog post.\n",
    "\n",
    "The function which executes Brainfuck code, including input and output, now looks like this:"
   ]
  },
  {
   "cell_type": "code",
   "execution_count": 13,
   "id": "cb222795-d612-4a31-9bb1-3e2f479b8b01",
   "metadata": {},
   "outputs": [],
   "source": [
    "fn execute_v3(tape: &mut Tape, instructions: &[Instruction]) {\n",
    "    for instruction in instructions {\n",
    "        match instruction {\n",
    "            Left => tape.left(),\n",
    "            Right => tape.right(),\n",
    "            Inc => tape.set(tape.get() + 1),\n",
    "            Dec => tape.set(tape.get() - 1),\n",
    "            Loop(body) => {\n",
    "                while tape.get() != 0 {\n",
    "                    execute_v3(tape, body)\n",
    "                }\n",
    "            }\n",
    "            Read => {\n",
    "                let mut buf: [u8; 1] = [0];\n",
    "                std::io::stdin().read_exact(&mut buf).unwrap();\n",
    "                tape.set(buf[0])\n",
    "            }\n",
    "            Write => {\n",
    "                std::io::stdout().write(&[tape.get()]).unwrap();\n",
    "            }\n",
    "        }\n",
    "    }\n",
    "}"
   ]
  },
  {
   "cell_type": "markdown",
   "id": "8ea491ac-90e1-4284-927b-14a4a68fa11d",
   "metadata": {},
   "source": [
    "To test it, we will try the following program which is the equivalent of \n",
    "```rust\n",
    "print!(\"#\\n\");\n",
    "```\n",
    "in Rust:"
   ]
  },
  {
   "cell_type": "code",
   "execution_count": 14,
   "id": "259fe36f-be39-4bb3-935f-e6fa27a45aef",
   "metadata": {},
   "outputs": [],
   "source": [
    "let print_hash = vec![\n",
    "    // load ASCII value for '#' (35)\n",
    "    Inc, Inc, Inc, Inc, Inc, Inc, Inc, Inc, Inc, Inc,\n",
    "    Inc, Inc, Inc, Inc, Inc, Inc, Inc, Inc, Inc, Inc,\n",
    "    Inc, Inc, Inc, Inc, Inc, Inc, Inc, Inc, Inc, Inc,\n",
    "    Inc, Inc, Inc, Inc, Inc,\n",
    "\n",
    "    // write to stdout\n",
    "    Write,\n",
    "\n",
    "    // clear the current cell\n",
    "    Loop(vec![Dec]),\n",
    "\n",
    "    // load ASCII value for '\\n' (10)\n",
    "    Inc, Inc, Inc, Inc, Inc, Inc, Inc, Inc, Inc, Inc,\n",
    "\n",
    "    // write to stdout\n",
    "    Write\n",
    "];"
   ]
  },
  {
   "cell_type": "code",
   "execution_count": 15,
   "id": "f3cf61ae-e43e-4444-ad2f-03cde1335f71",
   "metadata": {},
   "outputs": [
    {
     "name": "stdout",
     "output_type": "stream",
     "text": [
      "#\n"
     ]
    }
   ],
   "source": [
    "let mut t = Tape::new();\n",
    "execute_v3(&mut t, &print_hash);"
   ]
  },
  {
   "cell_type": "markdown",
   "id": "872f0ef2-0f6a-4813-bc40-5b7def81e4cc",
   "metadata": {},
   "source": [
    "Input also works, but cannot be demonstrated easily in a Jupyter notebook."
   ]
  },
  {
   "cell_type": "markdown",
   "id": "d4f06a29-d490-41ea-8676-c1efb7e4aa40",
   "metadata": {},
   "source": [
    "## Making input and output more flexible and testable with the traits `Read` and `Write`\n",
    "We will now make the function `execute(...)` more generic, such that it does not use standard input and standard output directly. Instead, we will make the function accept parameters which define where data should be read from and written to. We can then just pass `std::io::stdin()` and `std::io::stdout()` to this function to get the same behavior that we had so far.\n",
    "\n",
    "This approach has some advantages\n",
    "*   We can simulate input even in a Jupyter notebook.\n",
    "*   More importantly: we can write unit tests for our execution engine. These tests can provide input data and verify output data.\n",
    "\n",
    "How does this work?\n",
    "\n",
    "Here is a generic function that writes a byte to a given destination:"
   ]
  },
  {
   "cell_type": "code",
   "execution_count": 16,
   "id": "f47b817e-b836-47b8-bad2-2d8293d4b8b6",
   "metadata": {},
   "outputs": [],
   "source": [
    "fn write<W: Write>(dest: &mut W, value: u8) {\n",
    "    let mut buf: [u8; 1] = [value];\n",
    "    dest.write_all(&mut buf).unwrap();\n",
    "}"
   ]
  },
  {
   "cell_type": "markdown",
   "id": "04c3afe7-9799-4d69-a949-88c686105fd3",
   "metadata": {},
   "source": [
    "The function now accepts a parameter of the generic type `W`. The type is not completely arbitrary: the angle brackets between function name and parameter list tell that the type must implement the [`Write` trait](https://doc.rust-lang.org/std/io/trait.Write.html). Without this restriction, the compiler would not accept the call to `write_all(...)` because this function is provided by the trait.\n",
    "\n",
    "Rust traits are a bit like interfaces in, e.g., Java and concepts in C++.[<sup id=\"fnref:trait-objects\">4</sup>](#fn:trait-objects) They describe what conditions a type must fulfil. The `Write` trait describes things that bytes can be written to. So we can call this function with standard output:"
   ]
  },
  {
   "cell_type": "code",
   "execution_count": 17,
   "id": "9f430c91-02d2-4466-ba16-810d48abd41a",
   "metadata": {},
   "outputs": [
    {
     "name": "stdout",
     "output_type": "stream",
     "text": [
      "#\n"
     ]
    }
   ],
   "source": [
    "write(&mut std::io::stdout(), b'#');\n",
    "write(&mut std::io::stdout(), b'\\n');"
   ]
  },
  {
   "cell_type": "markdown",
   "id": "9d3df08c-88b9-4c3e-a0bc-6927de98b4ab",
   "metadata": {},
   "source": [
    "But we can also use other types which implement `Write`. This includes `Vec<u8>`, a vector of bytes. The written bytes will just be appended to the vector:[<sup id=\"fnref:type-deduction\">5</sup>](#fn:type-deduction)"
   ]
  },
  {
   "cell_type": "code",
   "execution_count": 18,
   "id": "005890ee-e405-4ff3-985f-2b47bce361de",
   "metadata": {},
   "outputs": [
    {
     "name": "stdout",
     "output_type": "stream",
     "text": [
      "data=[35, 10]\n",
      "data as str: Ok(\"#\\n\")\n"
     ]
    }
   ],
   "source": [
    "let mut data = Vec::new();\n",
    "write(&mut data, b'#');\n",
    "write(&mut data, b'\\n');\n",
    "println!(\"data={:?}\", data);\n",
    "\n",
    "// We can also interpret the Vec<u8> as an UTF-8 string.\n",
    "// Note that from_utf8(...) returns a Result because it\n",
    "// would fail for input which is not valid UTF-8:\n",
    "println!(\"data as str: {:?}\", std::str::from_utf8(&data));"
   ]
  },
  {
   "cell_type": "markdown",
   "id": "2002ead4-43b4-4c57-8d21-b186bbf9a897",
   "metadata": {},
   "source": [
    "We can make the input that we read from generic in the same way by using the `Read` trait.\n",
    "\n",
    "Our generic execution function then looks like this:"
   ]
  },
  {
   "cell_type": "code",
   "execution_count": 19,
   "id": "3f90b6ce-e769-49a4-9837-ffb3d53cc07b",
   "metadata": {},
   "outputs": [],
   "source": [
    "fn execute_v4<R: Read, W: Write>(tape: &mut Tape, instructions: &[Instruction], input: &mut R, output: &mut W) {\n",
    "    for instruction in instructions {\n",
    "        match instruction {\n",
    "            Left => tape.left(),\n",
    "            Right => tape.right(),\n",
    "            Inc => tape.set(tape.get() + 1),\n",
    "            Dec => tape.set(tape.get() - 1),\n",
    "            Loop(body) => {\n",
    "                while tape.get() != 0 {\n",
    "                    execute_v4(tape, body, input, output)\n",
    "                }\n",
    "            }\n",
    "            Read => {\n",
    "                let mut buf: [u8; 1] = [0];\n",
    "                input.read_exact(&mut buf).unwrap();\n",
    "                tape.set(buf[0])\n",
    "            }\n",
    "            Write => {\n",
    "                output.write(&[tape.get()]).unwrap();\n",
    "            }\n",
    "        }\n",
    "    }\n",
    "}"
   ]
  },
  {
   "cell_type": "markdown",
   "id": "b059771f-5819-4cd5-9ab5-818feb7f391c",
   "metadata": {},
   "source": [
    "To test this execution function, we will use the countdown program that we saw earlier:"
   ]
  },
  {
   "cell_type": "markdown",
   "id": "1d0cf9ed-d8fc-42c5-8556-57116ec977ef",
   "metadata": {},
   "source": [
    "So it works as expected 🙂"
   ]
  },
  {
   "cell_type": "markdown",
   "id": "196beaca-a2d6-4d3b-bd2d-a8a8c3fdc92c",
   "metadata": {},
   "source": [
    "## Summary and outlook\n",
    "We have combined the tape data structure and the instruction data type from the last post, and implemented a function that can execute the abstract syntax tree for any Brainfuck program in the context of the tape. Input and output were handled in a generic way using the `Read` and `Write` traits, such that program execution can be tested easily.\n",
    "\n",
    "In the next post, we will implement a parser that transforms Brainfuck source code to an abstract syntax tree."
   ]
  },
  {
   "cell_type": "markdown",
   "id": "61adf228-2eac-4f9c-913a-752817dc5aea",
   "metadata": {},
   "source": [
    "---\n",
    "\n",
    "1.  <span id=\"fn:import-local-crate\">The</span> [documentation](https://github.com/evcxr/evcxr/blob/main/COMMON.md) for the Rust Jupyter kernel describes how to do this (search for \"*You can use the local work-in-progress crate like this*\"). [&#8617;](#fnref:import-local-crate)\n",
    "\n",
    "1. <span id=\"fn:initial-state-all-zeroes\">Note</span> that Brainfuck programs usually operate on a tape which has all cells initialized to zero. So strictly speaking, a program that only sums the initial cell values does not make much sense. It is only used to test our intermediate step on the way to a full-featured Brainfuck execution engine here.[&#8617;](#fnref:initial-state-all-zeroes)\n",
    "\n",
    "1.  <span id=\"fn:deref-coercion\">This</span> feature is called [deref coercion](https://doc.rust-lang.org/book/ch15-02-deref.html#implicit-deref-coercions-with-functions-and-methods). [&#8617;](#fnref:deref-coercion)\n",
    "\n",
    "1.  <span id=\"fn:trait-objects\">Our</span> generic function `write<W: Write>(...)` is like a template in C++ in the sense that the compiler will generate separate assembly for each type that the function is used with. So our use of traits to define conditions that the type must fulfil corresponds more to concepts in C++ than to interfaces in Java. However, traits can also be used in a more dynamic way, such that only one version of the function exists in assembly and machine code, and dispatch is done dynamically at runtime with virtual function calls. This is more like what interfaces in Java and abstract base classes in C++ are used for.\n",
    "\n",
    "    Here is an example function, which gets a so-called *trait object* as a parameter:\n",
    "    ```rust\n",
    "    fn write_trait_object(w: &mut dyn Write, value: u8) {\n",
    "        let mut buf: [u8; 1] = [value];\n",
    "        w.write_all(&mut buf).unwrap();\n",
    "    }\n",
    "    ```\n",
    "    It can be called with standard output as the writer like this:\n",
    "    ```rust\n",
    "    write_trait_object(&mut std::io::stdout(), b'#');\n",
    "    write_trait_object(&mut std::io::stdout(), b'\\n');\n",
    "    ```\n",
    "    The differences to our earlier function `write<W: Write>(...)` are:\n",
    "    *   Only one version of the function exists for all types in machine code, so the size of the compiled program might be lower.\n",
    "    *   Due to dynamic dispatch at runtime, there may be a small performance penalty. Moreover, the compiler cannot perform optimizations for specific types that the function is used with. This could harm performance and increase the size of the compiled program.\n",
    "  \n",
    "    It can be tempting to use static dispatch and have the compiler generate optimal code for each type to improve the performance, but adding type annotations to functions and structs also has costs. In particular, it can harm developer productivity if done too excessively. The other day, I read a [very interesting blog post about a refactoring to static dispatch that the author considered a mistake](https://jmmv.dev/2023/08/rust-static-dispatch-failed-experiment.html).[&#8617;](#fnref:trait-objects)\n",
    "\n",
    "1.  <span id=\"fn:type-deduction\">Note</span> that we do not have to state the type `Vec<u8>` explicitly when we create the Vec with `Vec::new()`. We could do it in two different ways:\n",
    "    ```rust\n",
    "    let mut data: Vec<u8> = Vec::new();\n",
    "    ```\n",
    "    or\n",
    "    ```rust\n",
    "    let mut data = Vec::<u8>::new();\n",
    "    ```\n",
    "    \n",
    "    But the Rust compiler will deduce the type automatically here because we call the `write(...)` method of the `Write` trait on it, which `Vec<T>` only implements for `T` is `u8`.[&#8617;](#fnref:type-deduction)\n",
    "\n",
    "1.  <span id=\"fn:variable-scope\">I</span> have wrapped the code in this cell in braces (`{...}`) because compilation will fail with this error otherwise:\n",
    "\n",
    "    `Error: The variable input contains a reference with a non-static lifetime so can't be persisted. You can prevent this error by making sure that the variable goes out of scope - i.e. wrapping the code in {}.`\n",
    "\n",
    "    You would not have this problem outside a Jupyter notebook, because then `input` would have a well-define life time.\n",
    "\n",
    "    Another way to fix this issue besides the braces would be to redefine the variable `input`:\n",
    "    ```rust\n",
    "    let input = 0;\n",
    "    ```\n",
    "    Then the old variable `input` would also go out of scope. In Rust, variable names can be reused in the same scope, which can be confusing at first. I found this feature quite useful though after I got used to it.[&#8617;](#fnref:variable-scope)"
   ]
  },
  {
   "cell_type": "code",
   "execution_count": 42,
   "id": "f25f0eb8-39e6-4d72-81aa-aa2c3f9760e3",
   "metadata": {},
   "outputs": [
    {
     "ename": "Error",
     "evalue": "the type `str` cannot be indexed by `{integer}`",
     "output_type": "error",
     "traceback": [
      "s[0]",
      "\u001b[91m  ^\u001b[0m \u001b[94mstring indices are ranges of `usize`\u001b[0m",
      "the type `str` cannot be indexed by `{integer}`",
      "\u001b[1mhelp\u001b[0m: the trait `SliceIndex<str>` is not implemented for `{integer}`",
      "\u001b[1mhelp\u001b[0m: the trait `SliceIndex<[T]>` is implemented for `usize`"
     ]
    }
   ],
   "source": [
    "let s = \"äbc\";\n",
    "s[0]"
   ]
  },
  {
   "cell_type": "code",
   "execution_count": 48,
   "id": "eb7da751-51a3-4c20-a7e6-68c41743a35b",
   "metadata": {},
   "outputs": [
    {
     "data": {
      "text/plain": [
       "[(0, 'ä'), (2, 'b'), (3, 'c')]"
      ]
     },
     "execution_count": 48,
     "metadata": {},
     "output_type": "execute_result"
    }
   ],
   "source": [
    "\"äbc\".char_indices().collect::<Vec<_>>()"
   ]
  },
  {
   "cell_type": "code",
   "execution_count": 28,
   "id": "ae8ae06b-df23-4037-8ac5-f90dca29f3d5",
   "metadata": {},
   "outputs": [],
   "source": [
    "let a = Some(4);\n",
    "let b: Option<i32> = None;"
   ]
  },
  {
   "cell_type": "code",
   "execution_count": 34,
   "id": "0056196a-e699-413b-982f-e2215b17219f",
   "metadata": {},
   "outputs": [],
   "source": [
    "let Some(x) = a else { panic!(\"foo\"); };"
   ]
  },
  {
   "cell_type": "code",
   "execution_count": null,
   "id": "7b195478-852b-4331-92fe-ccd2edd32742",
   "metadata": {},
   "outputs": [],
   "source": []
  }
 ],
 "metadata": {
  "kernelspec": {
   "display_name": "Rust",
   "language": "rust",
   "name": "rust"
  },
  "language_info": {
   "codemirror_mode": "rust",
   "file_extension": ".rs",
   "mimetype": "text/rust",
   "name": "Rust",
   "pygment_lexer": "rust",
   "version": ""
  },
  "nikola": {
   "date": "2024-04-01 20:49:14 UTC",
   "slug": "../../blog/2024/04/XX/brainfuck-interpreter-in-rust-part3",
   "tags": "rust",
   "title": "Learn Rust by building a Brainfuck interpreter, part 3: how you should not build a parser"
  }
 },
 "nbformat": 4,
 "nbformat_minor": 5
}
