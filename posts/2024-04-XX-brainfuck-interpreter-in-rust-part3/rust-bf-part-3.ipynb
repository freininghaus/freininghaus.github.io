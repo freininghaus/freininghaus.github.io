{
 "cells": [
  {
   "cell_type": "markdown",
   "id": "3f87b73d-99f3-4333-9e03-0278d843336b",
   "metadata": {
    "jp-MarkdownHeadingCollapsed": true
   },
   "source": [
    "## Introduction\n",
    "\n",
    "This is the third in a series of posts that build a Brainfuck interpreter in Rust.\n",
    "*   In the [first post](../../../../2024/02/04/brainfuck-interpreter-in-rust-part1), we created the first building blocks for our Brainfuck interpreter in Rust: a data structure for the tape, and a data type for the instructions. The instructions are based on Rust's enums, which allow to build powerful [algebraic data types](https://en.wikipedia.org/wiki/Algebraic_data_type).\n",
    "*   In the [second post](../../../../2024/03/31/brainfuck-interpreter-in-rust-part2), we built an execution engine that can execute a Brainfuck program which is represented by an [abstract syntax tree](https://en.wikipedia.org/wiki/Abstract_syntax_tree) in the context of a tape. We used the `Read` and `Write` traits to make our execution function generic, such that we could not only read from standard input and write to standard output, but also, e.g., read from byte slices and write to a vector of bytes. This makes unit testing easy.\n",
    "\n",
    "Currently, we can only execute programs which are given as abstract syntax trees in Rust data structures, such as ***TODO: use a program with < and >. Maybe the Fibonacci one?***\n",
    "```rust\n",
    "vec![\n",
    "    Read,\n",
    "    Loop(vec![Write, Dec]),\n",
    "    Write\n",
    "];\n",
    "```\n",
    "In Brainfuck source code, this looks like this: `,[.-].`\n",
    "\n",
    "In the current post, we will find ways to transform the latter into the former, i.e., to parse Brainfuck source code and generate an abstract syntax tree.\n",
    "\n",
    "***Please note:** I intentionally did this without using libraries. I wanted to build a simple parser from scratch. Since I learned a lot this way, I found it appropriate to write a blog post about it. However, building a parser with the help of libraries that are designed for this purpose is **much** easier and less error-prone. In a future post in this series, we will implement a better parser using the [Rust crate nom](https://docs.rs/nom/latest/nom/).*\n",
    "\n",
    "<!-- TEASER_END -->"
   ]
  },
  {
   "cell_type": "markdown",
   "id": "f22fb8fb-3e43-44f9-b31b-9b6577a1dfd0",
   "metadata": {},
   "source": [
    "## Importing what we did so far into a Jupyter notebook\n",
    "\n",
    "I've taken the code from the [Jupyter](https://github.com/freininghaus/freininghaus.github.io/blob/main/posts/2024-02-04-brainfuck-interpreter-in-rust-part1/rust-bf-part1.ipynb) [notebooks](https://github.com/freininghaus/freininghaus.github.io/blob/main/posts/2024-03-31-brainfuck-interpreter-in-rust-part2/rust-bf-part-2.ipynb) that the first posts in this series were based on and copied it to proper Rust files in the directory for the new blog post: ***TODO: provide link to src directory here***\n",
    "\n",
    "Just like in the last post, we will import these into the Jupyter notebook that is the source of the current blog post:"
   ]
  },
  {
   "cell_type": "code",
   "execution_count": 5,
   "id": "db221ef7-c909-4b52-8703-b06f05a4095f",
   "metadata": {},
   "outputs": [],
   "source": [
    ":dep rust_bf = { package = \"rust-bf\", path = \".\" }\n",
    "    \n",
    "use rust_bf::{instructions::{Instruction, Instruction::*}, tape::Tape, executor::execute};"
   ]
  },
  {
   "cell_type": "markdown",
   "id": "732e3ecf-9388-4d09-ba21-5c85b23461ea",
   "metadata": {},
   "source": [
    "A small extension compared to the last post is that the function that executes Brainfuck code now creates an empty Tape, so we can run programs more easily. We'll show this with a somewhat silly example program that reads a number $n$, then reads $n$ bytes, decreases each of them by one, and writes them. Finally, it writes a newline character (`\\n`):"
   ]
  },
  {
   "cell_type": "code",
   "execution_count": 6,
   "id": "a068a458-70aa-4a6e-b02f-0f2fd79a023c",
   "metadata": {},
   "outputs": [],
   "source": [
    "let transform_input = vec![\n",
    "    // read number of items (n)\n",
    "    Read,\n",
    "    \n",
    "    Loop(vec![\n",
    "        // decrease n by one\n",
    "        Dec, \n",
    "\n",
    "        // go right, read input, decrease by one, write output, go left\n",
    "        Right, Read, Dec, Write, Left\n",
    "    ]), \n",
    "\n",
    "    // set current cell to 10 (ASCII code for newline, \\n)\n",
    "    Inc, Inc, Inc, Inc, Inc, Inc, Inc, Inc, Inc, Inc,\n",
    "\n",
    "    // write output\n",
    "    Write\n",
    "];"
   ]
  },
  {
   "cell_type": "markdown",
   "id": "26dd4d96-45a7-4915-bce8-c25724158b39",
   "metadata": {},
   "source": [
    "We will now execute this program and see what it does with the byte sequence `b\"\\x0cIfmmp!Xpsme\\\"\"` as input:"
   ]
  },
  {
   "cell_type": "code",
   "execution_count": 7,
   "id": "701dfc03-2098-4add-83a1-a31cbe1751f5",
   "metadata": {},
   "outputs": [
    {
     "name": "stdout",
     "output_type": "stream",
     "text": [
      "Hello World!\n"
     ]
    }
   ],
   "source": [
    "let encrypted_message = b\"\\x0cIfmmp!Xpsme\\\"\";\n",
    "let mut m: &[u8] = encrypted_message;\n",
    "execute(&transform_input, &mut m, &mut std::io::stdout());"
   ]
  },
  {
   "cell_type": "markdown",
   "id": "1e15189a-45cc-422e-bb1e-94ee62f21af9",
   "metadata": {},
   "source": [
    "So the value of `encrypted message` is just the input that `transform_input` needs to output \"Hello world!\".\n",
    "\n",
    "With the generic function `execute`, we can mix and match input and output objects as long as they implement the traits `Read` and `Write`, respectively. In particular, we can collect the output in a `Vec<u8>`, i.e., a vector of bytes. The following function will be useful, which uses a byte slice as input and writes the output both as a byte slice and as a string if the bytes contain valid UTF-8 data:"
   ]
  },
  {
   "cell_type": "code",
   "execution_count": 8,
   "id": "d6d3f67d-fdc3-43ca-ae7d-26c5c96eaefd",
   "metadata": {},
   "outputs": [],
   "source": [
    "fn execute_with_input(program: &[Instruction], input: &[u8]) {\n",
    "    let mut output = Vec::new();\n",
    "    let mut input: &[u8] = input;\n",
    "\n",
    "    execute(program, &mut input, &mut output);\n",
    "\n",
    "    println!(\"Output as bytes: {:?}\", output);\n",
    "    println!(\"Output as str:   {:?}\", std::str::from_utf8(&output));\n",
    "}"
   ]
  },
  {
   "cell_type": "markdown",
   "id": "dc169d1e-7cfc-44e4-866d-a1fdcb4b54a5",
   "metadata": {},
   "source": [
    "We will test it with the program `transform_output` and the encrypted message from above:"
   ]
  },
  {
   "cell_type": "code",
   "execution_count": 9,
   "id": "cda6cf9e-876f-450f-b4c7-ce272bb9fff2",
   "metadata": {},
   "outputs": [
    {
     "name": "stdout",
     "output_type": "stream",
     "text": [
      "Output as bytes: [72, 101, 108, 108, 111, 32, 87, 111, 114, 108, 100, 33, 10]\n",
      "Output as str:   Ok(\"Hello World!\\n\")\n"
     ]
    }
   ],
   "source": [
    "execute_with_input(&transform_input, encrypted_message);"
   ]
  },
  {
   "cell_type": "markdown",
   "id": "732ccaf8-6ce4-48dc-954a-ced11a920975",
   "metadata": {},
   "source": [
    "## Step 1: parse programs without loops\n",
    "Since the hardest part of parsing Brainfuck code is to handle loops, we will start simple and first parse loop-less programs. A simple example is a variant of `transform_input` which does not read the byte count, but uses a hard-coded number of input bytes instead. Then we can unroll the loop. For 12 input bytes, which happens to be the length of the string `Hello World!`, this is equivalent to the following source code. Note that all characters which are not mapped to Brainfuck instructions are considered comments:[<sup id=\"fnref:source-code-with-bytes-rather-than-strings\">1</sup>](#fn:source-code-with-bytes-rather-than-strings)"
   ]
  },
  {
   "cell_type": "code",
   "execution_count": 10,
   "id": "80b1f9f7-d777-4992-825f-3a436a8ffcc1",
   "metadata": {},
   "outputs": [],
   "source": [
    "let transform_12_input_bytes_source = \n",
    "b\"  ,-.         Repeat 12 times:\n",
    "    ,-.         * read a number\n",
    "    ,-.         * decrease by one\n",
    "    ,-.         * write it\n",
    "    ,-.\n",
    "    ,-.\n",
    "    ,-.\n",
    "    ,-.\n",
    "    ,-.\n",
    "    ,-.\n",
    "    ,-.\n",
    "    ,-.\n",
    "\n",
    "    >           go right to an empty cell\n",
    "    ++++++++++  store 10 (\\n)\n",
    "    .           write output\n",
    "\";"
   ]
  },
  {
   "cell_type": "markdown",
   "id": "01f9ce74-ada5-42c1-a96e-d93f694b5c93",
   "metadata": {},
   "source": [
    "We will split the parsing process into two functions, the first of which takes a single input character and returns an *optional* instruction:"
   ]
  },
  {
   "cell_type": "code",
   "execution_count": 11,
   "id": "6e46ea0e-4a65-4d90-96a7-9eabbe0c7711",
   "metadata": {},
   "outputs": [],
   "source": [
    "fn parse_simple_instruction(c: &u8) -> Option<Instruction> {\n",
    "    match c {\n",
    "        b'<' => Some(Left),\n",
    "        b'>' => Some(Right),\n",
    "        b'+' => Some(Inc),\n",
    "        b'-' => Some(Dec),\n",
    "        b',' => Some(Read),\n",
    "        b'.' => Some(Write),\n",
    "        b'[' | b']' => panic!(\"parse_simple_instruction cannot handle loops\"),\n",
    "        _ => None\n",
    "    }\n",
    "}"
   ]
  },
  {
   "cell_type": "markdown",
   "id": "34df31fe-f257-4b85-b9ce-22d57c12f280",
   "metadata": {},
   "source": [
    "[`Option<T>`](https://doc.rust-lang.org/std/option/enum.Option.html) is an enum which has the two variants\n",
    "* `None`, which corresponds to an empty value,\n",
    "* `Some(T)`, which holds a value of type `T`.\n",
    "\n",
    "This concept will look familiar to readers who have used optional values in other languages, like, e.g., [`std::optional`](https://en.cppreference.com/w/cpp/utility/optional) in C++ or [`Maybe`](https://wiki.haskell.org/Maybe) in Haskell. ***TODO footnote Java, null, Optional***"
   ]
  },
  {
   "cell_type": "markdown",
   "id": "07fbb166-ff49-4af2-b654-6077261e9332",
   "metadata": {},
   "source": [
    "We want to apply this function to every character in the Brainfuck source code. This could be done with a `for` loop, but it is easier to make use of iterators by applying a sequence of functions to transform the source into the result that we want. I will not describe the basics of iterators in great detail here (see the [relevant chapter in The Rust Programming Language](https://doc.rust-lang.org/book/ch13-02-iterators.html) or the [standard library documentation](https://doc.rust-lang.org/std/iter/trait.Iterator.html)), but much of what you can do with iterators should be easy to follow for readers who have experience with, e.g., streams in Java, views in C++, list transformations in Haskell, or similar constructs in other languages. Here we parse a small Brainfuck source snippet including comments:"
   ]
  },
  {
   "cell_type": "code",
   "execution_count": 12,
   "id": "5ca366cc-573c-425a-9b28-809cf719c544",
   "metadata": {},
   "outputs": [
    {
     "data": {
      "text/plain": [
       "[Some(Write), Some(Dec), Some(Read), None, None, None, None, None, None, None, None]"
      ]
     },
     "execution_count": 12,
     "metadata": {},
     "output_type": "execute_result"
    }
   ],
   "source": [
    "&b\".-, comment\"\n",
    "    .iter()\n",
    "    .map(parse_simple_instruction)\n",
    "    .collect::<Vec<_>>()"
   ]
  },
  {
   "cell_type": "markdown",
   "id": "1e651f71-1dda-4a1f-af92-7dfab27881cd",
   "metadata": {},
   "source": [
    "* `.iter()` creates an iterator that allows to iterate through the input bytes,\n",
    "* `.map(parse_simple_instruction)` applies the function above to each element,\n",
    "* `.collect::<Vec<_>>()` collects the transformed elements into a `Vec`. Note that the element type need not be specified because the compiler can deduce that it is `Option<Instruction>`.\n",
    "\n",
    "We see that parsing the instructions worked. It's just a bit inconvenient that the handling of comments results in each instruction being wrapped in `Some`, and that the `None` values from comments and whitespace are in the result.\n",
    "\n",
    "We could fix this by\n",
    "* First filtering out the `None` values. In the code snippet below, this is done with a *closure* that calls a [member of `Option`](https://doc.rust-lang.org/std/option/enum.Option.html#method.is_some). We could also have defined a separate function (as we did with `parse_simple_instruction`) for this purpose, but using a small anonymous function (also called *lambda* in other languages) is often easier.\n",
    "* And then unwrapping the instructions from `Some(...)`. This works similarly to unwrapping valid results from the `Ok` variant of `Result`, which we did in the [previous post in this series](../../../../2024/03/31/brainfuck-interpreter-in-rust-part2):"
   ]
  },
  {
   "cell_type": "code",
   "execution_count": 13,
   "id": "607ff4e5-09c3-4ac6-b513-a06a2349b729",
   "metadata": {},
   "outputs": [
    {
     "data": {
      "text/plain": [
       "[Write, Dec, Read]"
      ]
     },
     "execution_count": 13,
     "metadata": {},
     "output_type": "execute_result"
    }
   ],
   "source": [
    "b\".-, comment\"\n",
    "    .iter()\n",
    "    .map(parse_simple_instruction)\n",
    "    .filter(|opt| opt.is_some())\n",
    "    .map(|opt| opt.unwrap())\n",
    "    .collect::<Vec<_>>()"
   ]
  },
  {
   "cell_type": "markdown",
   "id": "aedac3ab-1ca8-4913-a6cb-9e16fba0b152",
   "metadata": {},
   "source": [
    "This works just fine, but the following solution is a bit more elegant:"
   ]
  },
  {
   "cell_type": "code",
   "execution_count": 15,
   "id": "2a2785c9-64a5-457b-acc9-3a66042d4fe4",
   "metadata": {},
   "outputs": [
    {
     "data": {
      "text/plain": [
       "[Write, Dec, Read]"
      ]
     },
     "execution_count": 15,
     "metadata": {},
     "output_type": "execute_result"
    }
   ],
   "source": [
    "b\".-, comment\"\n",
    "    .iter()\n",
    "    .filter_map(parse_simple_instruction)\n",
    "    .collect::<Vec<_>>()"
   ]
  },
  {
   "cell_type": "markdown",
   "id": "7bafeaed-2598-4e04-97e9-4949bdd04571",
   "metadata": {},
   "source": [
    "[`filter_map`](https://doc.rust-lang.org/std/iter/trait.Iterator.html#method.filter_map) is a member of `Iterator` that does just what we need:\n",
    "* it applies the given function,\n",
    "* it discards the `None` values,\n",
    "* and it unwraps each value that is wrapped in `Some(...)`."
   ]
  },
  {
   "cell_type": "markdown",
   "id": "74f0d276-1ac7-445f-a2e6-f9c686e48ab0",
   "metadata": {},
   "source": [
    "Now we can build a function that can parse any Brainfuck program that has no loops. Note that we do not have to specify that `.collect()` shall collect the resulting iterator into a `Vec` because the compiler deduces this from the return type of the function:"
   ]
  },
  {
   "cell_type": "code",
   "execution_count": 17,
   "id": "561122ef-90b3-4ad9-ac3e-e8a6593c65b7",
   "metadata": {},
   "outputs": [],
   "source": [
    "fn parse_program_without_loops(input: &[u8]) -> Vec<Instruction> {\n",
    "    input.iter()\n",
    "        .filter_map(|c| parse_simple_instruction(c))\n",
    "        .collect()\n",
    "}"
   ]
  },
  {
   "cell_type": "markdown",
   "id": "ff49c381-2100-464a-8928-c124009b2c7c",
   "metadata": {},
   "source": [
    "We will now parse the 12 byte transformation program above and execute it to verify that it works:"
   ]
  },
  {
   "cell_type": "code",
   "execution_count": 18,
   "id": "bc8ef603-38ae-4e0d-bde0-a1b5f7397bd7",
   "metadata": {},
   "outputs": [
    {
     "name": "stdout",
     "output_type": "stream",
     "text": [
      "Output as bytes: [72, 101, 108, 108, 111, 32, 87, 111, 114, 108, 100, 33, 10]\n",
      "Output as str:   Ok(\"Hello World!\\n\")\n"
     ]
    }
   ],
   "source": [
    "let transform_12_input_bytes = parse_program_without_loops(transform_12_input_bytes_source);\n",
    "execute_with_input(&transform_12_input_bytes, b\"Ifmmp!Xpsme\\\"\");"
   ]
  },
  {
   "cell_type": "markdown",
   "id": "06eac4b8-4444-4b4d-89aa-a04465381fa1",
   "metadata": {},
   "source": [
    "## Step 2: parse programs with loops"
   ]
  },
  {
   "cell_type": "markdown",
   "id": "e4483ce3-05a5-4681-9a2d-5d86934c9e49",
   "metadata": {},
   "source": [
    "One interesting aspect of loops is that each instruction that starts a loop, `[`, must have a matching loop end, `]`, and vice versa. Therefore, not every combination of characters forms a valid Brainfuck program, and it would be good if our parser could report some details about invalid programs, such as the first error in the source code.\n",
    "\n",
    "There are two possible kinds of errors:\n",
    "* There could be an unmatched loop end, i.e., a `]` where no loop was currently active. In this case, we will report the index of the unexpected `]` in the sequence of source characters.\n",
    "* There could be an unmatched `[`. This error could be fixed by adding an `]` at the end, so we will just report \"missing loop end at end of input\". We could also try to find out the index of the unmatched `[`, but this would complicate the parsing code. We will see in a future post that this is much easier when using the [nom](https://docs.rs/nom/latest/nom/) crate for parsing.\n",
    "\n",
    "We will use an enum to represent the different error conditions:"
   ]
  },
  {
   "cell_type": "code",
   "execution_count": 14,
   "id": "731b1dcf-b63b-4fa3-9690-e0ffd9410a6c",
   "metadata": {},
   "outputs": [],
   "source": [
    "#[derive(Debug)]\n",
    "enum ParseError {\n",
    "    MissingLoopEndAtEndOfInput,\n",
    "    UnexpectedLoopEnd(usize)\n",
    "}"
   ]
  },
  {
   "cell_type": "markdown",
   "id": "95fff9a0-d74d-4e89-b38a-9d3b748035ab",
   "metadata": {},
   "source": [
    "To build a full Brainfuck parser, we will complement the function `parse_simple_instruction` with three more functions:\n",
    "* `parse_next_instruction` parses a single instruction, which can either be a simple instruction, or a loop.\n",
    "* `parse_loop_body` parses the body of a loop, i.e., the code between `[` and `]`.\n",
    "* `parse` parses an entire Brainfuck program."
   ]
  },
  {
   "cell_type": "markdown",
   "id": "e8cdda3c-68a2-4f32-9fe2-0962a31f35d9",
   "metadata": {},
   "source": [
    "These functions all have a similar signature, which we will discuss in a minute:"
   ]
  },
  {
   "cell_type": "code",
   "execution_count": 15,
   "id": "6d6d8e8f-f8e9-48be-a1ad-d87fdcbf5fd9",
   "metadata": {},
   "outputs": [],
   "source": [
    "fn parse_next_instruction(source: &[u8]) -> Result<(Option<Instruction>, &[u8]), ParseError> {\n",
    "    todo!()\n",
    "}\n",
    "\n",
    "fn parse_loop_body(source: &[u8]) -> Result<(Vec<Instruction>, &[u8]), ParseError> {\n",
    "    todo!()\n",
    "}\n",
    "\n",
    "fn parse(source: &[u8]) -> Result<(Vec<Instruction>), ParseError> {\n",
    "    todo!()\n",
    "}"
   ]
  },
  {
   "cell_type": "markdown",
   "id": "c782457f-748c-492c-9e6a-34a079fb1f6c",
   "metadata": {},
   "source": [
    "* They take a byte slice, `&[u8]`, as the single argument. This is the source code which still needs to be parsed.\n",
    "* They return a `Result`, depending on whether parsing was successful or not.\n",
    "* The `Err` variant contains a `ParseError` which tells what the problem is.\n",
    "* The `Ok` variant contains the instructions which were parsed successfully, i.e.,\n",
    "    * a `Vec<Instruction>` for `parse` and `parse_loop_body`, and\n",
    "    * an `Option<Instruction>` for `parse_next_instruction`, which parses at most one instruction. It will be `None` if the next byte in `source` is a comment.\n",
    "* Moreover, since `parse_next_instruction` and `parse_loop_body` do not parse the entire program, they also have to return the remaining source code which still has to be parsed. Therefore, these functions return a tuple with two elements in the `Ok` variant."
   ]
  },
  {
   "cell_type": "markdown",
   "id": "2b396a5a-9388-4f11-88b3-9c3416344eb2",
   "metadata": {},
   "source": [
    "## Small digression: alternatives to `match` expressions\n",
    "Since each of the functions that were outlined above returns a `Result`, and the return value of `parse_next_instruction` contains an `Option<Instruction>` which is wrapped in the `Result`, we have to handle the different variants of these enum values (`Ok` and `Err` for `Result`, `Some` and `None` for `Some`) when these functions call each other.\n",
    "\n",
    "In the [previous post](../../../../2024/03/31/brainfuck-interpreter-in-rust-part2), we saw how this can be done with [pattern matching in `match` expressions](https://doc.rust-lang.org/book/ch06-02-match.html). However, there are simpler alternativs to deal with enums in some cases:\n",
    "\n",
    "### `if let`\n",
    "If we want to execute some code only if an enum value matches a specific pattern, we can use the `if let` construct. For example, a function that takes a slice of integer values and prints the first value if the slice is not empty could be implemented like this:"
   ]
  },
  {
   "cell_type": "code",
   "execution_count": 19,
   "id": "92797e5e-bb0d-4be5-abc5-b33f648b5cc2",
   "metadata": {},
   "outputs": [],
   "source": [
    "fn print_first_if_not_empty(values: &[i32]) {\n",
    "    if let Some(first) = values.iter().next() {\n",
    "        println!(\"First value: {}\", first);\n",
    "    }\n",
    "}"
   ]
  },
  {
   "cell_type": "code",
   "execution_count": 20,
   "id": "50b8e385-537b-4ab2-87bb-c2918a627624",
   "metadata": {},
   "outputs": [],
   "source": [
    "print_first_if_not_empty(&[]);  // no output"
   ]
  },
  {
   "cell_type": "code",
   "execution_count": 21,
   "id": "bbe34965-bac2-4bb2-9a15-71e64311827e",
   "metadata": {},
   "outputs": [
    {
     "name": "stdout",
     "output_type": "stream",
     "text": [
      "First value: 3\n"
     ]
    }
   ],
   "source": [
    "print_first_if_not_empty(&[3, 4, 4]);"
   ]
  },
  {
   "cell_type": "markdown",
   "id": "1ca51f39-34c2-472c-9d7f-a917dd00887a",
   "metadata": {},
   "source": [
    "### `let-else`\n",
    "Another interesting situation is the following: if a value matches a pattern, then we want to assign a variable based on the value, and use this variable in the remainder of the current code block. Otherwise, we want to leave the current block with something like `return`, `break`, `continue`, or `panic!`. This can be achieved like this:"
   ]
  },
  {
   "cell_type": "code",
   "execution_count": 27,
   "id": "e14f0a1d-c145-4f83-89bb-d69697cdb145",
   "metadata": {},
   "outputs": [],
   "source": [
    "fn double_first_value(values: &[i32]) -> Option<i32> {\n",
    "    let Some(first) = values.iter().next() else {\n",
    "        eprintln!(\"No values found.\");  // prints to stderr\n",
    "        return None;\n",
    "    };\n",
    "\n",
    "    return Some(2 * first);\n",
    "}"
   ]
  },
  {
   "cell_type": "code",
   "execution_count": 28,
   "id": "c3be84fe-4eeb-488b-8154-7e8443e3de4e",
   "metadata": {},
   "outputs": [
    {
     "name": "stderr",
     "output_type": "stream",
     "text": [
      "No values found.\n"
     ]
    },
    {
     "data": {
      "text/plain": [
       "None"
      ]
     },
     "execution_count": 28,
     "metadata": {},
     "output_type": "execute_result"
    }
   ],
   "source": [
    "double_first_value(&[])"
   ]
  },
  {
   "cell_type": "code",
   "execution_count": 29,
   "id": "648a75e2-9755-42d1-8ec6-9fc3882975d5",
   "metadata": {},
   "outputs": [
    {
     "data": {
      "text/plain": [
       "Some(6)"
      ]
     },
     "execution_count": 29,
     "metadata": {},
     "output_type": "execute_result"
    }
   ],
   "source": [
    "double_first_value(&[3, 4, 5])"
   ]
  },
  {
   "cell_type": "markdown",
   "id": "3039fbe6-304b-45a1-8677-369722258d47",
   "metadata": {},
   "source": [
    "### Propagating errors with the `?` operator\n",
    "Sometimes, a function has to handle a `Result` value where only the `Ok` variant can be handled in a meaningful way, and an `Err` should be returned to the caller directly. Similarly, functions which have to handle an `Option` might not be able to do anything with a `None` value and want to just pass it to the caller. To express this in a concise way, Rust has the [`?` operator](https://doc.rust-lang.org/book/ch09-02-recoverable-errors-with-result.html#a-shortcut-for-propagating-errors-the--operator).\n",
    "\n",
    "A question mark after a `Result` or `Option` value will try to unwrap the contained `Ok` or `Some` value, respectively, and return any `Err` or `None` values to the caller directly.\n",
    "\n",
    "A simple example would be a function that doubles an optional integer: ***TODO: footnote about Option::map***"
   ]
  },
  {
   "cell_type": "code",
   "execution_count": 54,
   "id": "20614797-359e-42d1-b501-89e42bf8e6be",
   "metadata": {},
   "outputs": [],
   "source": [
    "fn double(x: Option<i32>) -> Option<i32> {\n",
    "    Some(2 * x?)\n",
    "}"
   ]
  },
  {
   "cell_type": "markdown",
   "id": "2196ca1d-8071-4345-8d6b-dfcdce3fcf11",
   "metadata": {},
   "source": [
    "If `x` is a `Some` value, then the expression `x?` will be equal to the contained value. Otherwise, `None` will be returned from the function immediately:"
   ]
  },
  {
   "cell_type": "code",
   "execution_count": 55,
   "id": "902cf06b-fa44-47ef-b392-91ce83a48083",
   "metadata": {},
   "outputs": [
    {
     "data": {
      "text/plain": [
       "Some(8)"
      ]
     },
     "execution_count": 55,
     "metadata": {},
     "output_type": "execute_result"
    }
   ],
   "source": [
    "double(Some(4))"
   ]
  },
  {
   "cell_type": "code",
   "execution_count": 56,
   "id": "da44d005-cc84-423e-81d8-913c56e7fe29",
   "metadata": {},
   "outputs": [
    {
     "data": {
      "text/plain": [
       "None"
      ]
     },
     "execution_count": 56,
     "metadata": {},
     "output_type": "execute_result"
    }
   ],
   "source": [
    "double(None)"
   ]
  },
  {
   "cell_type": "markdown",
   "id": "80c3b314-9052-4e3b-90ef-137b0dbb851b",
   "metadata": {},
   "source": [
    "Even though it can be used to handle `Option` values, the `?` operator is more interesting for `Result values`:"
   ]
  },
  {
   "cell_type": "code",
   "execution_count": 87,
   "id": "13221553-4bce-47e2-9f08-c10aee283e38",
   "metadata": {},
   "outputs": [],
   "source": [
    "fn to_u64(x: Result<f64, &str>) -> Result<u64, &str> {\n",
    "    let x: f64 = x?;\n",
    "    if x < 0.0 || x > u64::MAX as f64 {\n",
    "        Err(\"value outside u64 range\")\n",
    "    } else {\n",
    "        Ok(x.round() as u64)\n",
    "    }\n",
    "}"
   ]
  },
  {
   "cell_type": "markdown",
   "id": "f8625b6e-fc16-4647-b51c-66a03f26842a",
   "metadata": {},
   "source": [
    "`Ok` values that contain a number will just be unwrapped for further processing:"
   ]
  },
  {
   "cell_type": "code",
   "execution_count": 47,
   "id": "b808ea9a-cf33-432d-a094-c31305aaa7b9",
   "metadata": {},
   "outputs": [
    {
     "data": {
      "text/plain": [
       "Err(\"value outside u64 range\")"
      ]
     },
     "execution_count": 47,
     "metadata": {},
     "output_type": "execute_result"
    }
   ],
   "source": [
    "to_u64(Ok(-1.0))"
   ]
  },
  {
   "cell_type": "code",
   "execution_count": 52,
   "id": "897ec15f-c5a0-42a1-b132-da6b140c6397",
   "metadata": {},
   "outputs": [
    {
     "data": {
      "text/plain": [
       "Ok(4)"
      ]
     },
     "execution_count": 52,
     "metadata": {},
     "output_type": "execute_result"
    }
   ],
   "source": [
    "to_u64(Ok(3.5))"
   ]
  },
  {
   "cell_type": "markdown",
   "id": "436a68d0-1f94-476b-89d7-ee0ac412a7c0",
   "metadata": {},
   "source": [
    "`Err` input values will be returned immediately:"
   ]
  },
  {
   "cell_type": "code",
   "execution_count": 53,
   "id": "c129ea43-3984-4111-b30a-874f3e768d4a",
   "metadata": {},
   "outputs": [
    {
     "data": {
      "text/plain": [
       "Err(\"invalid number\")"
      ]
     },
     "execution_count": 53,
     "metadata": {},
     "output_type": "execute_result"
    }
   ],
   "source": [
    "to_u64(Err(\"invalid number\"))"
   ]
  },
  {
   "cell_type": "markdown",
   "id": "90c0d699-901b-4963-83a3-6f5ed6fc33bd",
   "metadata": {},
   "source": [
    "## Implementing the functions for our parser\n",
    "Now that we know how to handle `Option` and `Result` values without `match` expressions, let us start with the implementation of `parse_next_instruction`. It will be called by the other two functions, but only if there is still something to parse. Moreover, the callers will be responsible for handling loop ends. So we can safely assume that we can extract the first character from the `source` argument, and that it is not `]`. We will just panic if these conditions are not fulfilled:"
   ]
  },
  {
   "cell_type": "code",
   "execution_count": 59,
   "id": "39fc6f18-3433-4b6b-8088-5d18e7ab0c5d",
   "metadata": {},
   "outputs": [],
   "source": [
    "fn parse_next_instruction(source: &[u8]) -> Result<(Option<Instruction>, &[u8]), ParseError> {\n",
    "\n",
    "    // Extract first character\n",
    "    let Some(c) = source.iter().next() else {\n",
    "        panic!(\"parse_next_instruction() should not be called with an empty source.\");\n",
    "    };\n",
    "\n",
    "    // Store everything after this character in remaining_source\n",
    "    let remaining_source = &source[1..];\n",
    "\n",
    "    match c {\n",
    "        b']' => panic!(\"loop end should be handled in the caller\"),\n",
    "\n",
    "        // Loop: wrap the instructions from the loop body in Loop(...) and forward\n",
    "        // the code after the loop end to the caller for further processing\n",
    "        b'[' => parse_loop_body(remaining_source)\n",
    "                .map(|(instructions, source_after_loop)|\n",
    "                     (Some(Loop(instructions)), source_after_loop)),\n",
    "\n",
    "        // Everything else is straightforward to parse :-)\n",
    "        c => Ok((parse_simple_instruction(c), remaining_source))\n",
    "    }\n",
    "}"
   ]
  },
  {
   "cell_type": "markdown",
   "id": "2727e57e-2484-4d1d-8218-1ac9743dda67",
   "metadata": {},
   "source": [
    "As you can see in the match arm that parses a loop, `map(...)` can be applied to the `Result` that is returned by `parse_loop_body`. This means that the mapping is applied only if the `Result` contains an `Ok` value. An `Err` value is left as it is."
   ]
  },
  {
   "cell_type": "code",
   "execution_count": 71,
   "id": "6f4ba6f3-c0e7-4d77-97e3-dc1418f05107",
   "metadata": {},
   "outputs": [],
   "source": [
    "fn test_parse_next_instruction(source: &[u8]) {\n",
    "    match parse_next_instruction(source) {\n",
    "        Ok((opt_instruction, remaining_source)) => {\n",
    "            println!(\"instruction: {:?}\", opt_instruction);\n",
    "            println!(\"remaining:   {:?}\", std::str::from_utf8(remaining_source).unwrap());\n",
    "        }\n",
    "        Err(error) => {\n",
    "            println!(\"error: {:?}\", error);\n",
    "        }\n",
    "    }\n",
    "}"
   ]
  },
  {
   "cell_type": "code",
   "execution_count": 72,
   "id": "7855f1ef-6857-45fd-ac66-a22e6774a8ad",
   "metadata": {},
   "outputs": [
    {
     "name": "stdout",
     "output_type": "stream",
     "text": [
      "instruction: Some(Left)\n",
      "remaining:   \">+\"\n"
     ]
    }
   ],
   "source": [
    "test_parse_next_instruction(b\"<>+\");"
   ]
  },
  {
   "cell_type": "code",
   "execution_count": 73,
   "id": "8fd13929-e30e-4848-9d5d-74caa21800af",
   "metadata": {},
   "outputs": [
    {
     "name": "stdout",
     "output_type": "stream",
     "text": [
      "instruction: None\n",
      "remaining:   \"omment ...\"\n"
     ]
    }
   ],
   "source": [
    "test_parse_next_instruction(b\"comment ...\");"
   ]
  },
  {
   "cell_type": "markdown",
   "id": "cc8593cf-bfd8-4c5c-a413-80e149d39aa0",
   "metadata": {},
   "source": [
    "We can now implement the function which parses a loop body. Since it might have to parse more than one instruction, we process the source code in a loop, and store the instructions that are found in a mutable `Vec`:"
   ]
  },
  {
   "cell_type": "code",
   "execution_count": 64,
   "id": "53dd1a50-1b18-40c1-92ec-77ade42c1c30",
   "metadata": {},
   "outputs": [],
   "source": [
    "fn parse_loop_body(source: &[u8]) -> Result<(Vec<Instruction>, &[u8]), ParseError> {\n",
    "    let mut result: Vec<Instruction> = Vec::new();\n",
    "    let mut remaining = source;\n",
    "\n",
    "    while remaining.len() > 0 {\n",
    "        if remaining[0] == b']' {\n",
    "            // We have found the loop end. Return the parsed instructions and the code after ']' to the caller.\n",
    "            return Ok((result, &remaining[1..]));\n",
    "        }\n",
    "\n",
    "        // Try to parse the next instruction. Forward any errors to the caller.\n",
    "        let (opt_instruction, source_after_instruction) = parse_next_instruction(remaining)?;\n",
    "\n",
    "        if let Some(instruction) = opt_instruction {\n",
    "            // The character was a valid instruction, and not a comment.\n",
    "            result.push(instruction);\n",
    "        }\n",
    "\n",
    "        remaining = source_after_instruction;\n",
    "    }\n",
    "\n",
    "    // The expected loop end was not found :-(\n",
    "    Err(ParseError::MissingLoopEndAtEndOfInput)\n",
    "}"
   ]
  },
  {
   "cell_type": "markdown",
   "id": "2e5afe34-3158-457f-971a-ada2f768e007",
   "metadata": {},
   "source": [
    "Now we can test this in the context of `parse_next_instruction`. An unterminated loop will result in an error:"
   ]
  },
  {
   "cell_type": "code",
   "execution_count": 74,
   "id": "4f6f300e-799c-4e6f-810c-a128e00207de",
   "metadata": {},
   "outputs": [
    {
     "name": "stdout",
     "output_type": "stream",
     "text": [
      "error: MissingLoopEndAtEndOfInput\n"
     ]
    }
   ],
   "source": [
    "test_parse_next_instruction(b\"[\");"
   ]
  },
  {
   "cell_type": "markdown",
   "id": "b77033e7-06f5-4a38-b979-bfee11dc70d5",
   "metadata": {},
   "source": [
    "A correct loop is parsed as a single instruction:"
   ]
  },
  {
   "cell_type": "code",
   "execution_count": 75,
   "id": "37e45085-d64c-49e3-bec9-febe7b0aa87f",
   "metadata": {},
   "outputs": [
    {
     "name": "stdout",
     "output_type": "stream",
     "text": [
      "instruction: Some(Loop([Dec, Left, Write]))\n",
      "remaining:   \">>>>\"\n"
     ]
    }
   ],
   "source": [
    "test_parse_next_instruction(b\"[-<.]>>>>\");"
   ]
  },
  {
   "cell_type": "markdown",
   "id": "9b4ab1b9-3176-416b-904c-b5929eb8ef8f",
   "metadata": {},
   "source": [
    "Nested loops also work just fine:"
   ]
  },
  {
   "cell_type": "code",
   "execution_count": 76,
   "id": "50b1a6d6-1a72-4ade-844c-5ef6ef802937",
   "metadata": {},
   "outputs": [
    {
     "data": {
      "text/plain": [
       "Ok((Some(Loop([Inc, Inc, Inc, Loop([Right, Inc, Left, Dec])])), []))"
      ]
     },
     "execution_count": 76,
     "metadata": {},
     "output_type": "execute_result"
    }
   ],
   "source": [
    "parse_next_instruction(b\"[+++[>+<-]]\")"
   ]
  },
  {
   "cell_type": "markdown",
   "id": "4fd5b18c-ba2a-4ec2-8525-425210eed6ac",
   "metadata": {},
   "source": [
    "Finally, we will implement the function `parse`, which parses a full program:"
   ]
  },
  {
   "cell_type": "code",
   "execution_count": 80,
   "id": "c8e26cc5-4675-41a3-90e1-7cd73853ae26",
   "metadata": {},
   "outputs": [],
   "source": [
    "fn parse(source: &[u8]) -> Result<(Vec<Instruction>), ParseError> {\n",
    "    let mut result: Vec<Instruction> = Vec::new();\n",
    "    let mut remaining = source;\n",
    "\n",
    "    while remaining.len() > 0 {\n",
    "        if remaining[0] == b']' {\n",
    "            // Loop ends are only expected in parse_loop_body :-(\n",
    "            return Err(ParseError::UnexpectedLoopEnd(source.len() - remaining.len()));\n",
    "        }\n",
    "\n",
    "        // Try to parse the next instruction. Forward any errors to the caller.\n",
    "        let (opt_instruction, source_after_instruction) = parse_next_instruction(remaining)?;\n",
    "\n",
    "        if let Some(instruction) = opt_instruction {\n",
    "            // The character was a valid instruction, and not a comment.\n",
    "            result.push(instruction);\n",
    "        }\n",
    "\n",
    "        remaining = source_after_instruction;\n",
    "    }\n",
    "\n",
    "    Ok(result)\n",
    "}"
   ]
  },
  {
   "cell_type": "code",
   "execution_count": 81,
   "id": "8b953fde-0eb8-4ace-8ca6-0e8070a2ffe1",
   "metadata": {},
   "outputs": [
    {
     "data": {
      "text/plain": [
       "Ok([Read, Write])"
      ]
     },
     "execution_count": 81,
     "metadata": {},
     "output_type": "execute_result"
    }
   ],
   "source": [
    "parse(b\",.\")"
   ]
  },
  {
   "cell_type": "code",
   "execution_count": 82,
   "id": "f9012b40-2642-4088-97a1-2fa1bc7c1039",
   "metadata": {},
   "outputs": [
    {
     "data": {
      "text/plain": [
       "Err(UnexpectedLoopEnd(0))"
      ]
     },
     "execution_count": 82,
     "metadata": {},
     "output_type": "execute_result"
    }
   ],
   "source": [
    "parse(b\"]\")"
   ]
  },
  {
   "cell_type": "code",
   "execution_count": 83,
   "id": "a447cf36-1bb2-41a7-8252-6712e3d9f90e",
   "metadata": {},
   "outputs": [
    {
     "data": {
      "text/plain": [
       "Err(UnexpectedLoopEnd(6))"
      ]
     },
     "execution_count": 83,
     "metadata": {},
     "output_type": "execute_result"
    }
   ],
   "source": [
    "parse(b\"[[[]]]]\")"
   ]
  },
  {
   "cell_type": "code",
   "execution_count": 84,
   "id": "f1dbdbc2-7558-4c73-a11e-90906ea82bc0",
   "metadata": {},
   "outputs": [
    {
     "data": {
      "text/plain": [
       "Err(MissingLoopEndAtEndOfInput)"
      ]
     },
     "execution_count": 84,
     "metadata": {},
     "output_type": "execute_result"
    }
   ],
   "source": [
    "parse(b\"[\")"
   ]
  },
  {
   "cell_type": "code",
   "execution_count": 85,
   "id": "67dd35ea-adb9-4c07-ad80-31e880248dd2",
   "metadata": {},
   "outputs": [],
   "source": [
    "let fib = parse(b\"\n",
    ",>>+<<\n",
    "[->\n",
    "  [->>+<<]\n",
    "  >\n",
    "  [-<+>>+<]\n",
    "  >\n",
    "  [-<+>]\n",
    "  <<.<\n",
    "]\").unwrap();"
   ]
  },
  {
   "cell_type": "code",
   "execution_count": 86,
   "id": "47a4499a-52e8-49fe-b752-4df3d183ed9a",
   "metadata": {},
   "outputs": [
    {
     "name": "stdout",
     "output_type": "stream",
     "text": [
      "Output as bytes: [1, 1, 2, 3, 5, 8, 13, 21, 34, 55, 89]\n",
      "Output as str:   Ok(\"\\u{1}\\u{1}\\u{2}\\u{3}\\u{5}\\u{8}\\r\\u{15}\\\"7Y\")\n"
     ]
    }
   ],
   "source": [
    "execute_with_input(&fib, &[11]);"
   ]
  },
  {
   "cell_type": "markdown",
   "id": "3a51cc91-34df-4192-b5fb-7d54b2cd7e21",
   "metadata": {},
   "source": [
    "---\n",
    "\n",
    "1.  <span id=\"fn:source-code-with-bytes-rather-than-strings\">Note</span> that we use byte slices, rather than strings, to represent Brainfuck source code here. This is why the literals are prefixed with `b`, which makes them [byte string literals](https://doc.rust-lang.org/reference/tokens.html#byte-string-literals). Our parser works by consuming one character at a time, and it is easier to determine the remaining input if the consumed character always has the same size, which is one byte for byte slices. In strings, which are represented as UTF-8 in Rust, a character can correspond to a variable number of bytes.[&#8617;](#fnref:source-code-with-bytes-rather-than-strings)"
   ]
  },
  {
   "cell_type": "code",
   "execution_count": null,
   "id": "db30d9e0-d0bf-455e-82cb-80cca2038182",
   "metadata": {},
   "outputs": [],
   "source": []
  }
 ],
 "metadata": {
  "kernelspec": {
   "display_name": "Rust",
   "language": "rust",
   "name": "rust"
  },
  "language_info": {
   "codemirror_mode": "rust",
   "file_extension": ".rs",
   "mimetype": "text/rust",
   "name": "Rust",
   "pygment_lexer": "rust",
   "version": ""
  },
  "nikola": {
   "date": "2024-04-01 20:49:14 UTC",
   "slug": "../../blog/2024/04/XX/brainfuck-interpreter-in-rust-part3",
   "tags": "rust",
   "title": "Learn Rust by building a Brainfuck interpreter, part 3: how you should not build a parser"
  }
 },
 "nbformat": 4,
 "nbformat_minor": 5
}
