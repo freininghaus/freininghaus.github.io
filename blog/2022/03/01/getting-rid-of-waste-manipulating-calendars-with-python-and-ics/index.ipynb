{
 "cells": [
  {
   "cell_type": "markdown",
   "id": "a0e06963",
   "metadata": {},
   "source": [
    "In the city where I live, four different kinds of waste are collected regularly:\n",
    "* paper, \n",
    "* organic waste,\n",
    "* the \"yellow bag\" which is for all sorts of packaging, and\n",
    "* residual waste, which contains all the rest (except batteries, dangerous chemicals and a couple of other things, which people have to bring to collection facilities themselves).\n",
    "\n",
    "At first sight, the days on which I have to take out the different bins and bags seem easy enough to remember: usually, everything is collected on the same day of the week. However, there are different schedules for the different kinds of waste (biweekly or every four weeks in my part of the city). Moreover, in weeks with bank holidays, the collection is often shifted to another weekday.\n",
    "\n",
    "Fortunately, the city council provides [iCalendar](https://en.wikipedia.org/wiki/ICalendar) files (`*.ical`) with all waste collection dates for the current year [at its website](https://serviceportal.aachen.de/abfallnavi). The downloaded file can easily be imported into any calendar application. I found that the structure of the events in the file could be made more convenient though.\n",
    "\n",
    "<!-- TEASER_END -->"
   ]
  },
  {
   "cell_type": "markdown",
   "id": "b226c4d8",
   "metadata": {},
   "source": [
    "# Structure of iCalendar files\n",
    "Some readers might not be familiar with the iCalendar file format, so let's first have a quick look at the downloaded file.\n",
    "\n",
    "It turns out that the file contains plain text. The meaning of most lines is evident, and lines are grouped into events and other kinds of components with lines like `BEGIN:VEVENT` and `END:VEVENT`. I will show you the file up to the end of the first event below.\n",
    "\n",
    "Note:\n",
    "1. The [source of this post](index.ipynb) is a [Jupyter](https://jupyter.org/) notebook, which you can download, modify, and run with an iCalendar file yourself.\n",
    "2. I am using `sed` to show just the first calendar event on my Linux command line. Working with the events on the calendar with Python should work the same on every operating system though. You do not need `sed` nor any other special tools.\n",
    "3. The exclamation mark in `!sed` tells the Jupyter kernel to execute this command in the shell, and not in the Python interpreter."
   ]
  },
  {
   "cell_type": "code",
   "execution_count": 1,
   "id": "e92c57d5",
   "metadata": {
    "scrolled": true
   },
   "outputs": [
    {
     "name": "stdout",
     "output_type": "stream",
     "text": [
      "BEGIN:VCALENDAR\r\n",
      "VERSION:2.0\r\n",
      "PRODID:regio iT\r\n",
      "BEGIN:VEVENT\r\n",
      "UID:6d52ed35-9b04-41bc-9e4b-a6c07d845699\r\n",
      "DTSTAMP:20220107T185517Z\r\n",
      "SUMMARY;LANGUAGE=de:Bio 2wö\r\n",
      "DTSTART:20220106T050000Z\r\n",
      "DTEND:20220106T050000Z\r\n",
      "DESCRIPTION:Bio 2wö\r\n",
      "LOCATION:<my address>\r\n",
      "BEGIN:VALARM\r\n",
      "ACTION:DISPLAY\r\n",
      "TRIGGER;RELATED=START:-PT720M\r\n",
      "DESCRIPTION:Bio 2wö\r\n",
      "END:VALARM\r\n",
      "END:VEVENT\r\n"
     ]
    }
   ],
   "source": [
    "!sed -e '/END:VEVENT/q' -e 's/^\\(LOCATION:\\).*$/\\1<my address>/' calendar.ics"
   ]
  },
  {
   "cell_type": "markdown",
   "id": "de703286",
   "metadata": {},
   "source": [
    "In principle, we could write a script that loads and parses the lines, groups them into events, and works with these. But we do not have to reinvent the wheel - there are libraries for this purpose, of course 😉"
   ]
  },
  {
   "cell_type": "markdown",
   "id": "3bbefde6",
   "metadata": {},
   "source": [
    "# Loading the iCalendar file with Python\n",
    "I looked for Python libraries which can read and write iCalendar files and found that [ics](https://pypi.org/project/ics/) is easy to work with and more than powerful enough for my needs."
   ]
  },
  {
   "cell_type": "code",
   "execution_count": 2,
   "id": "80455a04",
   "metadata": {},
   "outputs": [],
   "source": [
    "import ics"
   ]
  },
  {
   "cell_type": "markdown",
   "id": "cffc3cd3",
   "metadata": {},
   "source": [
    "Let's open the file and look at the first events in the calendar:"
   ]
  },
  {
   "cell_type": "code",
   "execution_count": 3,
   "id": "1f13f4ad",
   "metadata": {},
   "outputs": [
    {
     "data": {
      "text/plain": [
       "[<Event 'Gelber Sack' begin:2022-01-06T05:00:00+00:00 end:2022-01-06T05:00:00+00:00>,\n",
       " <Event 'Restabfall 2wö' begin:2022-01-06T05:00:00+00:00 end:2022-01-06T05:00:00+00:00>,\n",
       " <Event 'Bio 2wö' begin:2022-01-06T05:00:00+00:00 end:2022-01-06T05:00:00+00:00>,\n",
       " <Event 'Restabfall 2wö' begin:2022-01-20T05:00:00+00:00 end:2022-01-20T05:00:00+00:00>,\n",
       " <Event 'Altpapier 4wö' begin:2022-01-20T05:00:00+00:00 end:2022-01-20T05:00:00+00:00>,\n",
       " <Event 'Bio 2wö' begin:2022-01-20T05:00:00+00:00 end:2022-01-20T05:00:00+00:00>,\n",
       " <Event 'Gelber Sack' begin:2022-01-20T05:00:00+00:00 end:2022-01-20T05:00:00+00:00>,\n",
       " <Event 'Restabfall 2wö' begin:2022-02-03T05:00:00+00:00 end:2022-02-03T05:00:00+00:00>,\n",
       " <Event 'Gelber Sack' begin:2022-02-03T05:00:00+00:00 end:2022-02-03T05:00:00+00:00>,\n",
       " <Event 'Bio 2wö' begin:2022-02-03T05:00:00+00:00 end:2022-02-03T05:00:00+00:00>]"
      ]
     },
     "execution_count": 3,
     "metadata": {},
     "output_type": "execute_result"
    }
   ],
   "source": [
    "with open(\"calendar.ics\") as file:\n",
    "    calendar = ics.Calendar(file.read())\n",
    "\n",
    "sorted(calendar.events)[:10]"
   ]
  },
  {
   "cell_type": "markdown",
   "id": "cc0749a3",
   "metadata": {},
   "source": [
    "The structure becomes more obvious if we print the date first in each line and add some grouping:"
   ]
  },
  {
   "cell_type": "code",
   "execution_count": 4,
   "id": "f5fac40b",
   "metadata": {},
   "outputs": [
    {
     "name": "stdout",
     "output_type": "stream",
     "text": [
      "2022-01-06 Gelber Sack\n",
      "2022-01-06 Restabfall 2wö\n",
      "2022-01-06 Bio 2wö\n",
      "\n",
      "2022-01-20 Restabfall 2wö\n",
      "2022-01-20 Altpapier 4wö\n",
      "2022-01-20 Bio 2wö\n",
      "2022-01-20 Gelber Sack\n",
      "\n",
      "2022-02-03 Restabfall 2wö\n",
      "2022-02-03 Gelber Sack\n",
      "2022-02-03 Bio 2wö\n"
     ]
    }
   ],
   "source": [
    "import itertools\n",
    "\n",
    "grouped_by_date = itertools.groupby(sorted(calendar.events),\n",
    "                                    key=lambda event: event.begin)\n",
    "\n",
    "first_groups = itertools.islice(grouped_by_date, 3)\n",
    "\n",
    "for i, (date, events) in enumerate(first_groups):\n",
    "    if i > 0:\n",
    "        print()\n",
    "    for event in events:\n",
    "        print(event.begin.datetime.date().isoformat(), event.name)"
   ]
  },
  {
   "cell_type": "markdown",
   "id": "377d2e78",
   "metadata": {},
   "source": [
    "As you can see, three different kinds of waste are collected on some dates, and four on others (note that the suffix \"2wö\" is a shorthand for \"2-wöchentlich\", or biweekly, and \"4wö\" means \"every four weeks\"). I did not like these showing up as different events in my calendar. This makes the calendar more cluttered than it needs to be, especially on days with a number of other events."
   ]
  },
  {
   "cell_type": "markdown",
   "id": "51b39f25",
   "metadata": {},
   "source": [
    "# Merging events\n",
    "To fix this, we merge simultaneous events into one. The name of the merged event should contain all kinds of waste that are collected on that day.\n",
    "\n",
    "First, let's strip the name suffix that indicates the schedule."
   ]
  },
  {
   "cell_type": "code",
   "execution_count": 5,
   "id": "a7468774",
   "metadata": {},
   "outputs": [],
   "source": [
    "import re\n",
    "\n",
    "def strip_suffix(name):\n",
    "    if (match := re.fullmatch(\"^(.*)( \\d*wö)$\", name)) is not None:\n",
    "        return match.group(1)\n",
    "    else:\n",
    "        return name\n",
    "\n",
    "assert strip_suffix(\"Gelber Sack\") == \"Gelber Sack\"\n",
    "assert strip_suffix(\"Altpapier 4wö\") == \"Altpapier\"\n",
    "assert strip_suffix(\"Bio 2wö\") == \"Bio\"\n",
    "assert strip_suffix(\"Restabfall 2wö\") == \"Restabfall\""
   ]
  },
  {
   "cell_type": "markdown",
   "id": "ab7a19f4",
   "metadata": {},
   "source": [
    "We can then write a generator that finds all simultaneous events and yields a merged event:"
   ]
  },
  {
   "cell_type": "code",
   "execution_count": 6,
   "id": "6e127441",
   "metadata": {},
   "outputs": [],
   "source": [
    "def merge_names(events):\n",
    "    return \", \".join(sorted(strip_suffix(e.name) for e in events))\n",
    "\n",
    "def merge_simultaneous_events(events):\n",
    "    begin_and_end = lambda event: (event.begin, event.end)\n",
    "    \n",
    "    for _, events in itertools.groupby(sorted(events, \n",
    "                                              key=begin_and_end), \n",
    "                                       key=begin_and_end):\n",
    "        # We can consume 'events' only once, but we need it twice.\n",
    "        # Therefore, we put them into a tuple.\n",
    "        events = tuple(events)\n",
    "\n",
    "        new_name = merge_names(events)\n",
    "        \n",
    "        merged_event = events[0].clone()\n",
    "        merged_event.name = new_name\n",
    "        merged_event.description = new_name\n",
    "\n",
    "        yield merged_event\n",
    "\n",
    "merged_events = tuple(merge_simultaneous_events(calendar.events))"
   ]
  },
  {
   "cell_type": "markdown",
   "id": "bcf03cbf",
   "metadata": {},
   "source": [
    "Now all collections on the same day are merged nicely:"
   ]
  },
  {
   "cell_type": "code",
   "execution_count": 7,
   "id": "97147d53",
   "metadata": {},
   "outputs": [
    {
     "name": "stdout",
     "output_type": "stream",
     "text": [
      "2022-01-06 Bio, Gelber Sack, Restabfall\n",
      "2022-01-20 Altpapier, Bio, Gelber Sack, Restabfall\n",
      "2022-02-03 Bio, Gelber Sack, Restabfall\n",
      "2022-02-17 Altpapier, Bio, Gelber Sack, Restabfall\n"
     ]
    }
   ],
   "source": [
    "for event in merged_events[:4]:\n",
    "    print(event.begin.datetime.date().isoformat(), event.name)"
   ]
  },
  {
   "cell_type": "markdown",
   "id": "55ef5756",
   "metadata": {},
   "source": [
    "Are we done yet, or is there more that could be improved?"
   ]
  },
  {
   "cell_type": "markdown",
   "id": "144773b8",
   "metadata": {},
   "source": [
    "# Fixing start and end times"
   ]
  },
  {
   "cell_type": "markdown",
   "id": "1b2ce1da",
   "metadata": {},
   "source": [
    "Let's look at the times of events close to the daylight saving time switch:"
   ]
  },
  {
   "cell_type": "code",
   "execution_count": 8,
   "id": "5d607447",
   "metadata": {
    "scrolled": true
   },
   "outputs": [
    {
     "name": "stdout",
     "output_type": "stream",
     "text": [
      "2022-03-04 05:00:00 Bio, Gelber Sack, Restabfall\n",
      "2022-03-17 05:00:00 Altpapier, Bio, Gelber Sack, Restabfall\n",
      "2022-03-31 04:00:00 Bio, Gelber Sack, Restabfall\n",
      "2022-04-13 04:00:00 Altpapier, Bio, Gelber Sack, Restabfall\n",
      "2022-04-28 04:00:00 Bio, Gelber Sack, Restabfall\n"
     ]
    }
   ],
   "source": [
    "def print_events_in_months(events, months=(3, 4)):\n",
    "    for event in events:\n",
    "        if (dt := event.begin.datetime).month in months:\n",
    "            print(dt.date().isoformat(),\n",
    "                  dt.time().isoformat(),\n",
    "                  event.name)\n",
    "\n",
    "print_events_in_months(merged_events)"
   ]
  },
  {
   "cell_type": "markdown",
   "id": "ec3014b7",
   "metadata": {},
   "source": [
    "All events have the same start time in UTC, but it would be nice if they had the same start time in local time! Maybe 7 am, because the first waste collections occur around that time."
   ]
  },
  {
   "cell_type": "code",
   "execution_count": 9,
   "id": "36568c18",
   "metadata": {},
   "outputs": [],
   "source": [
    "import datetime\n",
    "import pytz\n",
    "\n",
    "berlin = pytz.timezone(\"Europe/Berlin\")\n",
    "\n",
    "def set_time_7am(event):\n",
    "    date = event.begin.datetime.date()\n",
    "    time = datetime.time(hour=7)\n",
    "\n",
    "    new_dt = datetime.datetime.combine(date, time, berlin)\n",
    "    \n",
    "    event.end = new_dt\n",
    "    event.begin = new_dt"
   ]
  },
  {
   "cell_type": "markdown",
   "id": "8acfbddd",
   "metadata": {},
   "source": [
    "Note that we modify `event.end` before `event.begin`. Otherwise, `ics` would complain because the new `begin` date is after the old one, such that `begin` would be after `end` temporarily. This issue could be fixed better, but simply swapping the assignments works just fine for my simple task."
   ]
  },
  {
   "cell_type": "markdown",
   "id": "5d090726",
   "metadata": {},
   "source": [
    "# Creating a new file with the merged events\n",
    "Now we can put the new events into a new Calendar:"
   ]
  },
  {
   "cell_type": "code",
   "execution_count": 10,
   "id": "a4227303",
   "metadata": {},
   "outputs": [],
   "source": [
    "new_calendar = ics.Calendar()\n",
    "\n",
    "for event in merged_events:\n",
    "    set_time_7am(event)\n",
    "    new_calendar.events.add(event)"
   ]
  },
  {
   "cell_type": "markdown",
   "id": "30683103",
   "metadata": {},
   "source": [
    "It can be serialized easily to a file like this:[<sup id=\"fnref:ics-serialization\">1</sup>](#fn:ics-serialization)"
   ]
  },
  {
   "cell_type": "code",
   "execution_count": 11,
   "id": "f481ac51",
   "metadata": {},
   "outputs": [],
   "source": [
    "with open(\"new-calendar.ics\", \"w\") as f:\n",
    "    f.write(new_calendar.serialize())"
   ]
  },
  {
   "cell_type": "markdown",
   "id": "8cacef7f",
   "metadata": {},
   "source": [
    "We can check now that the first event in the new file looks as it should. Actually, the first event in the file is not the event that occurs first because the events are stored in a `set` in `Calendar`. Unlike `dict`, a Python `set` does not preserve the insertion order.\n",
    "\n",
    "Note that I run `dos2unix` on the file before processing it further because the Windows line breaks (`\"\\r\\n\"`) created by `ics` appear to be turned into `\"\\r\\n\\r\"` in the cell output. This is not visible in Jupyter, but it confuses the code which converts the Notebook file into a blog post. I couldn't investigate yet what the root cause of this problem is, so I just remove the Windows line breaks."
   ]
  },
  {
   "cell_type": "code",
   "execution_count": 12,
   "id": "1b90e68c",
   "metadata": {},
   "outputs": [
    {
     "name": "stdout",
     "output_type": "stream",
     "text": [
      "BEGIN:VCALENDAR\r\n",
      "VERSION:2.0\r\n",
      "PRODID:ics.py - http://git.io/lLljaA\r\n",
      "BEGIN:VEVENT\r\n",
      "BEGIN:VALARM\r\n",
      "ACTION:DISPLAY\r\n",
      "DESCRIPTION:Restabfall 2wö\r\n",
      "TRIGGER:-PT12H\r\n",
      "END:VALARM\r\n",
      "DTSTAMP:20220107T185517Z\r\n",
      "DESCRIPTION:Altpapier\\, Bio\\, Gelber Sack\\, Restabfall\r\n",
      "DTEND:20220804T050000Z\r\n",
      "LOCATION:<my address>\r\n",
      "DTSTART:20220804T050000Z\r\n",
      "SUMMARY:Altpapier\\, Bio\\, Gelber Sack\\, Restabfall\r\n",
      "UID:7993aafc-a134-48ea-b391-615b5ec63720\r\n",
      "END:VEVENT\r\n"
     ]
    }
   ],
   "source": [
    "!dos2unix new-calendar.ics 2>/dev/null || echo \"dos2unix failed!\"\n",
    "\n",
    "!sed -e '/END:VEVENT/q' -e 's/^\\(LOCATION:\\).*$/\\1<my address>/' new-calendar.ics"
   ]
  },
  {
   "cell_type": "markdown",
   "id": "094dac78",
   "metadata": {},
   "source": [
    "You might notice that the value of the `DESCRIPTION` field of the alarm is still the one from one of the original events. This is also straightforward to fix, but I think that this post is already long enough as it is 🙂"
   ]
  },
  {
   "cell_type": "markdown",
   "id": "88b43da2",
   "metadata": {},
   "source": [
    "# Conclusion\n",
    "Perhaps surprisingly, taking out the waste can teach you things about programming.\n",
    "\n",
    "If you ever want to perform changes on iCalendar files and enjoy coding in Python as much as I do, I recommend that you give [ics](https://pypi.org/project/ics/) a try. It's just a\n",
    "\n",
    "```shell\n",
    "pip install ics\n",
    "```\n",
    "\n",
    "away and is documented nicely at <https://icspy.readthedocs.io/en/stable/index.html>.\n",
    "\n",
    "---\n",
    "\n",
    "1. <span id=\"fn:ics-serialization\">The</span> first version of this post serialized the new calendar with `f.writelines(new_calendar)` because a `Calendar` object happily behaved like an iterable of strings that produces the file contents line by line. However, as of today (January 4, 2023), this results in a deprecation warning. In future versions of ics, this will not work any more. Moreover, even if the `serialize()` function is used, there is still an unnecessary deprecation warning with ics 0.7.2. This has been [fixed already](https://github.com/ics-py/ics-py/pull/361), but version 0.7.2 does not contain the fix yet. Until a new version is released, a branch version without this issue can be installed with `pip install git+https://github.com/ics-py/ics-py@version-0.7`. [&#8617;](#fnref:ics-serialization)"
   ]
  }
 ],
 "metadata": {
  "kernelspec": {
   "display_name": "Python 3 (ipykernel)",
   "language": "python",
   "name": "python3"
  },
  "language_info": {
   "codemirror_mode": {
    "name": "ipython",
    "version": 3
   },
   "file_extension": ".py",
   "mimetype": "text/x-python",
   "name": "python",
   "nbconvert_exporter": "python",
   "pygments_lexer": "ipython3",
   "version": "3.9.2"
  },
  "nikola": {
   "date": "2022-03-01 22:24:59 UTC+01:00",
   "slug": "../../blog/2022/03/01/getting-rid-of-waste-manipulating-calendars-with-python-and-ics",
   "tags": "python",
   "title": "Getting rid of waste: manipulating calendars with Python and the ics library"
  }
 },
 "nbformat": 4,
 "nbformat_minor": 5
}
